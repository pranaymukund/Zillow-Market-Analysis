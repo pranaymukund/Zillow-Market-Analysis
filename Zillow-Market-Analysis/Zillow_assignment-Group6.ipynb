{
 "cells": [
  {
   "cell_type": "markdown",
   "metadata": {},
   "source": [
    "# BAN 612 - Spring 2022\n",
    "\n",
    "#### GROUP 6 - \n",
    "#### Rohit Kumar \n",
    "#### Om Sai Rusheel Kacham \t\n",
    "#### Bhavana Atluri \t\n",
    "#### Sonia Sunny\t\n",
    "#### Sravan allaparthi\t\n",
    "#### Prashanth Mandapati \t\n",
    "\t"
   ]
  },
  {
   "cell_type": "markdown",
   "metadata": {},
   "source": [
    "### Data Collection"
   ]
  },
  {
   "cell_type": "code",
   "execution_count": 1,
   "metadata": {},
   "outputs": [],
   "source": [
    "# Importing Libraries\n",
    "\n",
    "from bs4 import BeautifulSoup as BS\n",
    "from urllib.request import urlopen\n",
    "import requests\n",
    "import pandas as pd\n",
    "import numpy as np"
   ]
  },
  {
   "cell_type": "code",
   "execution_count": 2,
   "metadata": {},
   "outputs": [],
   "source": [
    "# Request Headers\n",
    "\n",
    "req_headers = {\n",
    "    'accept': 'text/html,application/xhtml+xml,application/xml;q=0.9,image/webp,image/apng,*/*;q=0.8',\n",
    "    'accept-encoding': 'gzip, deflate, br',\n",
    "    'accept-language': 'en-US,en;q=0.8',\n",
    "    'upgrade-insecure-requests': '1',\n",
    "    'user-agent': 'Mozilla/5.0 (Windows NT 10.0; Win64; x64) AppleWebKit/537.36 (KHTML, like Gecko) Chrome/61.0.3163.100 Safari/537.36'\n",
    "}"
   ]
  },
  {
   "cell_type": "code",
   "execution_count": 3,
   "metadata": {},
   "outputs": [],
   "source": [
    "# Initialising the variables\n",
    "\n",
    "base_url = \"https://www.zillow.com/homes/\"  \n",
    "area_code_mapping = {\n",
    "    'Contra Costa' : 'contra-costa-county-ca',\n",
    "    'Marina' : 'marina-ca',\n",
    "    'Napa' : 'napa-ca',\n",
    "    'San Francisco' : 'san-francisco-ca',\n",
    "    'San Jose':'san-jose-ca',\n",
    "    'San Mateo' : 'san-mateo-ca',\n",
    "    'Santa Clara' : 'santa-clara-ca',\n",
    "    'Solano' : 'solano-county-ca',\n",
    "    'Sonoma' : 'sonoma-ca'\n",
    "    \n",
    " }\n",
    "\n",
    "df = pd.DataFrame()"
   ]
  },
  {
   "cell_type": "code",
   "execution_count": 50,
   "metadata": {},
   "outputs": [],
   "source": [
    "# URL construction\n",
    "\n",
    "def construct_url(base_url,area_code,page_num):\n",
    "    \n",
    "    '''\n",
    "    Returns the URL to scrap given the 'base URL', 'area code' and 'page number'\n",
    "    \n",
    "    '''\n",
    "    \n",
    "    return base_url + area_code + '/' + str(page_num) + '_p'"
   ]
  },
  {
   "cell_type": "code",
   "execution_count": 51,
   "metadata": {},
   "outputs": [],
   "source": [
    "# First Address\n",
    "\n",
    "def first_address(base_url,area_code,page_num,req_headers):\n",
    "    \n",
    "    '''\n",
    "    returns first address from the page given the 'base URL', 'area code', 'page number' and 'request headers'\n",
    "    \n",
    "    '''\n",
    "    \n",
    "    r = requests.get(construct_url(base_url,area_code,page_num) , headers=req_headers)\n",
    "    soup = BS(r.content, 'html.parser')\n",
    "    \n",
    "    return str(soup.find(class_=\"list-card-details\"))\n",
    "    "
   ]
  },
  {
   "cell_type": "markdown",
   "metadata": {},
   "source": [
    "- Scarping through all the 9 `Counties` in the `Bay Area` :\n",
    "     1. Contra Costa\n",
    "     2. Marina\n",
    "     3. Napa\n",
    "     4. San Francisco\n",
    "     5. San Jose\n",
    "     6. San Mateo\n",
    "     7. Santa Clara\n",
    "     8. Solano\n",
    "     9. Sonoma\n"
   ]
  },
  {
   "cell_type": "code",
   "execution_count": 6,
   "metadata": {},
   "outputs": [
    {
     "name": "stdout",
     "output_type": "stream",
     "text": [
      "Contra Costa\n",
      "1\n",
      "2\n",
      "3\n",
      "4\n",
      "5\n",
      "6\n",
      "7\n",
      "8\n",
      "9\n",
      "10\n",
      "11\n",
      "12\n",
      "13\n",
      "14\n",
      "15\n",
      "Marina\n",
      "1\n",
      "Napa\n",
      "1\n",
      "2\n",
      "3\n",
      "4\n",
      "5\n",
      "San Francisco\n",
      "1\n",
      "2\n",
      "3\n",
      "4\n",
      "5\n",
      "6\n",
      "7\n",
      "8\n",
      "9\n",
      "10\n",
      "11\n",
      "12\n",
      "13\n",
      "14\n",
      "15\n",
      "16\n",
      "17\n",
      "18\n",
      "19\n",
      "20\n",
      "21\n",
      "San Jose\n",
      "1\n",
      "2\n",
      "3\n",
      "4\n",
      "5\n",
      "6\n",
      "7\n",
      "8\n",
      "9\n",
      "10\n",
      "11\n",
      "San Mateo\n",
      "1\n",
      "2\n",
      "3\n",
      "Santa Clara\n",
      "1\n",
      "2\n",
      "3\n",
      "Solano\n",
      "1\n",
      "2\n",
      "3\n",
      "4\n",
      "5\n",
      "6\n",
      "7\n",
      "8\n",
      "9\n",
      "10\n",
      "Sonoma\n",
      "1\n",
      "2\n",
      "3\n"
     ]
    }
   ],
   "source": [
    "# intialisiing the Dataframe to store the data while we scraping\n",
    "ans = pd.DataFrame()\n",
    "properties = []\n",
    "\n",
    "# Scarping for each of the county in the Bay Area\n",
    "for area_name,area_code in area_code_mapping.items():\n",
    "    print(area_name) # to get an idea on progress while we run\n",
    "    prev_data = \"\"\n",
    "    page_num = 1\n",
    "    \n",
    "    r = requests.get(construct_url(base_url,area_code,page_num) , headers=req_headers)\n",
    "    soup = BS(r.content, 'html.parser')\n",
    "    first_add = str(soup.find(class_=\"list-card-details\"))\n",
    "    \n",
    "    # scrap the area till last page\n",
    "    while prev_data != first_address(base_url,area_code,page_num,req_headers) :\n",
    "    \n",
    "        print(page_num)\n",
    "        \n",
    "        r = requests.get(construct_url(base_url,area_code,page_num) , headers=req_headers)\n",
    "        soup = BS(r.content, 'html.parser')\n",
    "    \n",
    "    \n",
    "        url = []\n",
    "\n",
    "\n",
    "        for link in soup.find_all(class_='list-card-link list-card-link-top-margin'):\n",
    "            url.append(link.attrs['href'])\n",
    "            \n",
    "        df = pd.DataFrame()\n",
    "        \n",
    "        df['URL'] = url\n",
    "        \n",
    "        df['County'] = area_name\n",
    "        \n",
    "        ans = pd.concat([ans,df])\n",
    "        \n",
    "        prev_data = str(soup.find(class_=\"list-card-details\"))\n",
    "        \n",
    "        page_num = page_num + 1\n",
    "            "
   ]
  },
  {
   "cell_type": "code",
   "execution_count": 7,
   "metadata": {},
   "outputs": [],
   "source": [
    "# Dropping duplicates\n",
    "\n",
    "#ans.drop_duplicates(inplace=True)"
   ]
  },
  {
   "cell_type": "code",
   "execution_count": 8,
   "metadata": {},
   "outputs": [],
   "source": [
    "# Reset Indexes\n",
    "\n",
    "ans.reset_index(drop=True, inplace=True)"
   ]
  },
  {
   "cell_type": "code",
   "execution_count": 9,
   "metadata": {},
   "outputs": [],
   "source": [
    "def get_address(title):\n",
    "    \n",
    "    '''\n",
    "    returns the 'Title' of the page given the 'URL'\n",
    "    '''\n",
    "    \n",
    "    sp = title.split(' | ')\n",
    "    if len(sp) != 0 :\n",
    "        \n",
    "        attr = sp[0].split(',')\n",
    "        \n",
    "        address = attr[0]\n",
    "        #county = attr[1].strip()\n",
    "        zip_code = attr[-1].split(\" \")[-1]\n",
    "        \n",
    "    return [address,zip_code]  \n"
   ]
  },
  {
   "cell_type": "code",
   "execution_count": 11,
   "metadata": {},
   "outputs": [
    {
     "name": "stdout",
     "output_type": "stream",
     "text": [
      "0 https://www.zillow.com/homedetails/111-S-Lake-Dr-Antioch-CA-94509/18305776_zpid/\n",
      "1 https://www.zillow.com/homedetails/810-W-6th-St-Antioch-CA-94509/18306132_zpid/\n",
      "2 https://www.zillow.com/homedetails/1021-Morning-Glory-Way-Oakley-CA-94561/72552429_zpid/\n",
      "3 https://www.zillow.com/homedetails/4003-Crescent-Ct-Antioch-CA-94509/72555732_zpid/\n",
      "4 https://www.zillow.com/homedetails/3625-Mountaire-Dr-Antioch-CA-94509/18309592_zpid/\n",
      "5 https://www.zillow.com/homedetails/7020-Molluk-Way-Clayton-CA-94517/18357264_zpid/\n",
      "6 https://www.zillow.com/homedetails/2414-Branchwood-Ct-Richmond-CA-94806/18502384_zpid/\n",
      "7 https://www.zillow.com/homedetails/3020-Elizabeth-Ln-Antioch-CA-94509/18311356_zpid/\n",
      "8 https://www.zillow.com/homedetails/81-Schooner-Ct-Richmond-CA-94804/72552480_zpid/\n",
      "9 https://www.zillow.com/community/orchard-trails/2067247056_zpid/\n",
      "10 https://www.zillow.com/homedetails/1881-Gateway-Dr-Oakley-CA-94561/18292253_zpid/\n",
      "11 https://www.zillow.com/homedetails/524-4th-St-Rodeo-CA-94572/18481711_zpid/\n",
      "12 https://www.zillow.com/homedetails/551-Captains-Ct-Pittsburg-CA-94565/2066816815_zpid/\n",
      "13 https://www.zillow.com/homedetails/1274-Fascination-Cir-Richmond-CA-94803/18522357_zpid/\n",
      "14 https://www.zillow.com/homedetails/5564-Frenchpark-Ct-Antioch-CA-94531/68039881_zpid/\n",
      "15 https://www.zillow.com/homedetails/1199-Marionola-Way-Pinole-CA-94564/18495067_zpid/\n",
      "16 https://www.zillow.com/homedetails/7221-Cutting-Blvd-El-Cerrito-CA-94530/18530817_zpid/\n",
      "17 https://www.zillow.com/homedetails/33-Avon-Rd-Kensington-CA-94707/18551035_zpid/\n",
      "18 https://www.zillow.com/homedetails/540-16th-St-Richmond-CA-94801/18535640_zpid/\n",
      "19 https://www.zillow.com/homedetails/1905-Seward-Dr-Pittsburg-CA-94565/18315520_zpid/\n",
      "20 https://www.zillow.com/homedetails/4785-Mills-Dr-Brentwood-CA-94513/18280472_zpid/\n",
      "21 https://www.zillow.com/community/orchard-trails/2067247062_zpid/\n",
      "22 https://www.zillow.com/community/serene-at-vista-del-mar/2068821556_zpid/\n",
      "23 https://www.zillow.com/community/aviano-luna/2067268545_zpid/\n",
      "24 https://www.zillow.com/homedetails/1697-Countrywood-Ct-Walnut-Creek-CA-94598/18382859_zpid/\n",
      "25 https://www.zillow.com/homedetails/2109-Abbott-Ave-Pittsburg-CA-94565/18325372_zpid/\n",
      "26 https://www.zillow.com/homedetails/11-Las-Moradas-Cir-San-Pablo-CA-94806/18513810_zpid/\n",
      "27 https://www.zillow.com/community/acacia/2071531948_zpid/\n",
      "28 https://www.zillow.com/homedetails/125-Clipper-Ln-Martinez-CA-94553/18398103_zpid/\n",
      "29 https://www.zillow.com/community/capri-at-san-marco/2069083527_zpid/\n",
      "30 https://www.zillow.com/homedetails/1119-Eaglewood-Ct-Richmond-CA-94806/67699340_zpid/\n",
      "31 https://www.zillow.com/homedetails/1443-Rockledge-Ln-APT-6-Walnut-Creek-CA-94595/18553732_zpid/\n",
      "32 https://www.zillow.com/community/twin-oaks-grove/2066872831_zpid/\n",
      "33 https://www.zillow.com/homedetails/91-Cataline-Ave-Antioch-CA-94509/18308072_zpid/\n",
      "34 https://www.zillow.com/homedetails/4488-Piper-Ct-Antioch-CA-94531/68032316_zpid/\n",
      "35 https://www.zillow.com/homedetails/321-Grangnelli-Ave-Antioch-CA-94509/18305158_zpid/\n",
      "36 https://www.zillow.com/homedetails/37-Wharf-Dr-Bay-Point-CA-94565/18336387_zpid/\n",
      "37 https://www.zillow.com/homedetails/47-Schooner-Ct-Richmond-CA-94804/72548901_zpid/\n",
      "38 https://www.zillow.com/homedetails/4809-Sheffels-Peak-Ct-Antioch-CA-94531/18314030_zpid/\n",
      "39 https://www.zillow.com/homedetails/908-Poppy-Dr-Brentwood-CA-94513/95377858_zpid/\n",
      "40 https://www.zillow.com/homedetails/1657-Brix-Ln-Brentwood-CA-94513/241642445_zpid/\n",
      "41 https://www.zillow.com/homedetails/901-Scanlan-Way-Pinole-CA-94564/18496465_zpid/\n",
      "42 https://www.zillow.com/homedetails/86-Harbor-View-Dr-Richmond-CA-94804/18549449_zpid/\n",
      "43 https://www.zillow.com/homedetails/6400-Moeser-Ln-APT-2-El-Cerrito-CA-94530/82851566_zpid/\n",
      "44 https://www.zillow.com/homedetails/10-Aleman-Ct-Walnut-Creek-CA-94597/18407833_zpid/\n",
      "45 https://www.zillow.com/community/cielo-at-sand-creek-vista-collection/2068409475_zpid/\n",
      "46 https://www.zillow.com/community/preserve-hillcrest/2068393471_zpid/\n",
      "47 https://www.zillow.com/community/alicante/2076884222_zpid/\n",
      "48 https://www.zillow.com/community/twin-oaks-grove/2066872836_zpid/\n",
      "49 https://www.zillow.com/homedetails/2815-Canterbury-Dr-Richmond-CA-94806/18512391_zpid/\n",
      "50 https://www.zillow.com/homedetails/263-Kenyon-Ave-Kensington-CA-94708/18550368_zpid/\n",
      "51 https://www.zillow.com/homedetails/2510-Taylor-Way-Antioch-CA-94531/50917165_zpid/\n",
      "52 https://www.zillow.com/homedetails/2761-Wright-Ave-Pinole-CA-94564/18484654_zpid/\n",
      "53 https://www.zillow.com/homedetails/801-Jetty-Dr-Richmond-CA-94804/95438242_zpid/\n",
      "54 https://www.zillow.com/homedetails/4640-Pleasant-Hill-Rd-Martinez-CA-94553/18400232_zpid/\n",
      "55 https://www.zillow.com/community/terrene/2083973844_zpid/\n",
      "56 https://www.zillow.com/homedetails/4033-Terra-Granada-Dr-APT-4C-Walnut-Creek-CA-94595/18422527_zpid/\n",
      "57 https://www.zillow.com/community/brant/2067480106_zpid/\n",
      "58 https://www.zillow.com/community/cypress-estates/2067877056_zpid/\n",
      "59 https://www.zillow.com/community/retreat-at-vista-del-mar/2077320030_zpid/\n",
      "60 https://www.zillow.com/homedetails/3697-Willow-Rd-Bethel-Island-CA-94511/18287470_zpid/\n",
      "61 https://www.zillow.com/homedetails/1601-3rd-Ave-106-Walnut-Creek-CA-94597/166300008_zpid/\n",
      "62 https://www.zillow.com/homedetails/2305-Beasley-Ave-Antioch-CA-94509/18308702_zpid/\n",
      "63 https://www.zillow.com/community/luca-at-aviano/2067609070_zpid/\n",
      "64 https://www.zillow.com/community/brant/2067480094_zpid/\n",
      "65 https://www.zillow.com/community/alicante/2076884224_zpid/\n",
      "66 https://www.zillow.com/community/twin-oaks-grove/2066872833_zpid/\n",
      "67 https://www.zillow.com/homedetails/30-The-Pnes-LOT-7-Lafayette-CA-94549/2066551671_zpid/\n",
      "68 https://www.zillow.com/homedetails/2201-Westgate-Dr-Pittsburg-CA-94565/18328315_zpid/\n",
      "69 https://www.zillow.com/community/brant/2067480108_zpid/\n",
      "70 https://www.zillow.com/homedetails/0-Moraga-Rd-Moraga-CA-94556/2102995046_zpid/\n",
      "71 https://www.zillow.com/homedetails/3745-Railroad-Ave-Pittsburg-CA-94565/2066531464_zpid/\n",
      "72 https://www.zillow.com/homedetails/6317-Bonita-Ct-San-Pablo-CA-94806/18515162_zpid/\n",
      "73 https://www.zillow.com/homedetails/3701-Porter-Cir-Bethel-Island-CA-94511/18552383_zpid/\n",
      "74 https://www.zillow.com/homedetails/3701-Porter-Cir-58-Bethel-Island-CA-94511/2066594403_zpid/\n",
      "75 https://www.zillow.com/homedetails/28-Lots-2nd-Ave-Crockett-CA-94525/2066527470_zpid/\n",
      "76 https://www.zillow.com/homedetails/965-Centennial-Dr-Brentwood-CA-94513/68035128_zpid/\n",
      "77 https://www.zillow.com/community/serene-at-vista-del-mar/2068821557_zpid/\n",
      "78 https://www.zillow.com/homedetails/477-Veda-Dr-Danville-CA-94526/18431701_zpid/\n",
      "79 https://www.zillow.com/community/luca-at-aviano/2069072990_zpid/\n",
      "80 https://www.zillow.com/homedetails/217-Lawton-St-Antioch-CA-94509/18307459_zpid/\n",
      "81 https://www.zillow.com/community/brant/2067056618_zpid/\n",
      "82 https://www.zillow.com/homedetails/10300-San-Pablo-Ave-405-El-Cerrito-CA-94530/2066686449_zpid/\n",
      "83 https://www.zillow.com/homedetails/200-Railroad-Ave-201-Danville-CA-94526/166394815_zpid/\n",
      "84 https://www.zillow.com/homedetails/2200-Laguna-Cir-APT-F-Concord-CA-94520/18364264_zpid/\n",
      "85 https://www.zillow.com/homedetails/3321-Jessica-Ct-Antioch-CA-94509/18296485_zpid/\n",
      "86 https://www.zillow.com/homedetails/4090-Happy-Valley-Rd-Lafayette-CA-94549/124736206_zpid/\n",
      "87 https://www.zillow.com/homedetails/1122-Skycrest-Dr-APT-1-Walnut-Creek-CA-94595/18555807_zpid/\n",
      "88 https://www.zillow.com/homedetails/1300-Quarry-Ct-APT-112-Richmond-CA-94801/18548785_zpid/\n",
      "89 https://www.zillow.com/homedetails/0-Brentwood-Blvd-Brentwood-CA-94513/2084386119_zpid/\n",
      "90 https://www.zillow.com/community/brant/2067480101_zpid/\n",
      "91 https://www.zillow.com/homedetails/2012-Rancho-Del-Lago-Rd-Briones-CA-94553/301016186_zpid/\n",
      "92 https://www.zillow.com/homedetails/0-Hazel-St-Pinole-CA-94564/2071919419_zpid/\n",
      "93 https://www.zillow.com/community/brant/2067480104_zpid/\n",
      "94 https://www.zillow.com/homedetails/247-Sequoia-Ave-Walnut-Creek-CA-94595/95413168_zpid/\n",
      "95 https://www.zillow.com/homedetails/1238-Frances-Rd-San-Pablo-CA-94806/18501150_zpid/\n",
      "96 https://www.zillow.com/homedetails/4556-Appian-Way-TRLR-1-El-Sobrante-CA-94803/2087831836_zpid/\n",
      "97 https://www.zillow.com/community/brant/2067480105_zpid/\n",
      "98 https://www.zillow.com/homedetails/5624-Sunfish-Ct-Discovery-Bay-CA-94505/18277480_zpid/\n",
      "99 https://www.zillow.com/homedetails/1125-Road-20-San-Pablo-CA-94806/18509021_zpid/\n",
      "100 https://www.zillow.com/homedetails/2831-Tara-Hills-Dr-San-Pablo-CA-94806/18497306_zpid/\n",
      "101 https://www.zillow.com/homedetails/1700-Finley-Rd-San-Ramon-CA-94583/2067606568_zpid/\n",
      "102 https://www.zillow.com/homedetails/8410-Lone-Tree-Way-Brentwood-CA-94513/2076565409_zpid/\n",
      "103 https://www.zillow.com/homedetails/1240-Monticello-Rd-Lafayette-CA-94549/2094786813_zpid/\n",
      "104 https://www.zillow.com/homedetails/176-W-8th-St-Pittsburg-CA-94565/18322955_zpid/\n",
      "105 https://www.zillow.com/homedetails/2206-Sand-Point-Rd-Discovery-Bay-CA-94505/18276590_zpid/\n",
      "106 https://www.zillow.com/homedetails/327-Elm-St-Brentwood-CA-94513/18282770_zpid/\n",
      "107 https://www.zillow.com/homedetails/521-3rd-St-Brentwood-CA-94513/82238697_zpid/\n",
      "108 https://www.zillow.com/homedetails/1300-Garvin-Ave-Richmond-CA-94801/18543384_zpid/\n",
      "109 https://www.zillow.com/homedetails/Foothill-Dr-Brentwood-CA-94513/82857003_zpid/\n",
      "110 https://www.zillow.com/homedetails/10496-San-Pablo-Ave-El-Cerrito-CA-94530/2069541459_zpid/\n",
      "111 https://www.zillow.com/homedetails/5520-Edgeview-Dr-Discovery-Bay-CA-94505/95438989_zpid/\n",
      "112 https://www.zillow.com/homedetails/0-Wanda-Way-Martinez-CA-94553/2119972399_zpid/\n",
      "113 https://www.zillow.com/homedetails/2300-Ridgewood-Rd-Alamo-CA-94507/2069644140_zpid/\n",
      "114 https://www.zillow.com/homedetails/41-Willow-Creek-Ln-Danville-CA-94506/18434804_zpid/\n",
      "115 https://www.zillow.com/homedetails/1260-York-St-Richmond-CA-94801/95413019_zpid/\n",
      "116 https://www.zillow.com/homedetails/0-York-St-Richmond-CA-94801/2071712691_zpid/\n",
      "117 https://www.zillow.com/homedetails/38-Valley-View-Rd-Oakland-CA-94563/18474705_zpid/\n",
      "118 https://www.zillow.com/homedetails/42-Charles-Hill-Cir-Orinda-CA-94563/95417336_zpid/\n",
      "119 https://www.zillow.com/homedetails/3100-Finley-Rd-Pleasanton-CA-94588/2093318177_zpid/\n",
      "120 https://www.zillow.com/homedetails/1-Dimm-Way-Richmond-CA-94805/2071498702_zpid/\n",
      "121 https://www.zillow.com/homedetails/41-Meadow-Lake-Dr-Danville-CA-94506/18436062_zpid/\n",
      "122 https://www.zillow.com/homedetails/0-Road-20-San-Pablo-CA-94806/2094702536_zpid/\n",
      "123 https://www.zillow.com/homedetails/271-Lomas-Cantadas-Orinda-CA-94563/240950021_zpid/\n",
      "124 https://www.zillow.com/homedetails/16-Castro-St-Richmond-CA-94801/2080050776_zpid/\n",
      "125 https://www.zillow.com/homedetails/Knightsen-CA-94548/82799240_zpid/\n",
      "126 https://www.zillow.com/homedetails/111-S-Lake-Dr-Antioch-CA-94509/18305776_zpid/\n",
      "127 https://www.zillow.com/homedetails/810-W-6th-St-Antioch-CA-94509/18306132_zpid/\n",
      "128 https://www.zillow.com/homedetails/1021-Morning-Glory-Way-Oakley-CA-94561/72552429_zpid/\n",
      "129 https://www.zillow.com/homedetails/4003-Crescent-Ct-Antioch-CA-94509/72555732_zpid/\n",
      "130 https://www.zillow.com/homedetails/3625-Mountaire-Dr-Antioch-CA-94509/18309592_zpid/\n",
      "131 https://www.zillow.com/homedetails/7020-Molluk-Way-Clayton-CA-94517/18357264_zpid/\n",
      "132 https://www.zillow.com/homedetails/2414-Branchwood-Ct-Richmond-CA-94806/18502384_zpid/\n",
      "133 https://www.zillow.com/homedetails/3020-Elizabeth-Ln-Antioch-CA-94509/18311356_zpid/\n",
      "134 https://www.zillow.com/homedetails/81-Schooner-Ct-Richmond-CA-94804/72552480_zpid/\n",
      "135 https://www.zillow.com/homedetails/3162-Eucalyptus-St-APT-38-Marina-CA-93933/19357400_zpid/\n",
      "136 https://www.zillow.com/homedetails/3247-De-Forest-Rd-Marina-CA-93933/19355327_zpid/\n",
      "137 https://www.zillow.com/community/surf-house-at-dunes/2067247055_zpid/\n",
      "138 https://www.zillow.com/community/surf-house-at-dunes/2067247049_zpid/\n",
      "139 https://www.zillow.com/community/beach-house-at-dunes/2068731592_zpid/\n",
      "140 https://www.zillow.com/community/surf-house-at-dunes/2067247044_zpid/\n",
      "141 https://www.zillow.com/community/villosa-at-sea-haven/2087799195_zpid/\n",
      "142 https://www.zillow.com/community/beach-house-at-dunes/2068731594_zpid/\n",
      "143 https://www.zillow.com/community/beach-house-at-dunes/2068731593_zpid/\n",
      "144 https://www.zillow.com/homedetails/2941-Hilltop-Dr-Napa-CA-94558/19394034_zpid/\n",
      "145 https://www.zillow.com/homedetails/3195-Soda-Canyon-Rd-Napa-CA-94558/19405263_zpid/\n",
      "146 https://www.zillow.com/homedetails/3201-Soda-Canyon-Rd-Napa-CA-94558/130965051_zpid/\n",
      "147 https://www.zillow.com/homedetails/236-Mulford-Dr-Napa-CA-94558/19402423_zpid/\n",
      "148 https://www.zillow.com/homedetails/16-Gleneagle-Cir-Napa-CA-94558/19423886_zpid/\n",
      "149 https://www.zillow.com/homedetails/1163-Wyatt-Ave-Napa-CA-94559/250823611_zpid/\n",
      "150 https://www.zillow.com/homedetails/4411-Morse-Ct-Napa-CA-94558/54051502_zpid/\n",
      "151 https://www.zillow.com/homedetails/3398-E-Highway-128-Saint-Helena-CA-94574/2085498050_zpid/\n",
      "152 https://www.zillow.com/homedetails/3222-Villa-Ln-Napa-CA-94558/19415545_zpid/\n",
      "153 https://www.zillow.com/homedetails/3000-Silverado-Trl-Napa-CA-94558/19409944_zpid/\n",
      "154 https://www.zillow.com/homedetails/7040-Silverado-Trl-Napa-CA-94558/19404933_zpid/\n",
      "155 https://www.zillow.com/homedetails/3536-Glenbrook-Ln-Napa-CA-94558/19419131_zpid/\n",
      "156 https://www.zillow.com/homedetails/2139-Laurel-St-Napa-CA-94559/19394162_zpid/\n",
      "157 https://www.zillow.com/homedetails/4048-Sonoma-Hwy-12-Napa-CA-94559/2066613078_zpid/\n",
      "158 https://www.zillow.com/homedetails/415-Bear-Creek-Cir-Napa-CA-94558/19423751_zpid/\n",
      "159 https://www.zillow.com/homedetails/5-Lighthouse-Ct-Napa-CA-94559/19414362_zpid/\n",
      "160 https://www.zillow.com/homedetails/0-Berry-Ln-Napa-CA-94558/2107626214_zpid/\n",
      "161 https://www.zillow.com/homedetails/4417-Meadowlark-Dr-Napa-CA-94558/19406901_zpid/\n",
      "162 https://www.zillow.com/homedetails/253-Mulford-Dr-Napa-CA-94558/19402430_zpid/\n",
      "163 https://www.zillow.com/homedetails/1057-Arroyo-Grande-Dr-Napa-CA-94558/124740604_zpid/\n",
      "164 https://www.zillow.com/homedetails/245-Kreuzer-Ln-Napa-CA-94559/130977535_zpid/\n",
      "165 https://www.zillow.com/homedetails/3396-Soda-Canyon-Rd-Napa-CA-94558/19405023_zpid/\n",
      "166 https://www.zillow.com/homedetails/1228-2nd-Ave-Napa-CA-94558/19420144_zpid/\n",
      "167 https://www.zillow.com/homedetails/0-Soda-Canyon-Rd-Napa-CA-94558/2106064155_zpid/\n",
      "168 https://www.zillow.com/homedetails/7560-Saint-Helena-Hwy-Napa-CA-94558/19404834_zpid/\n",
      "169 https://www.zillow.com/homedetails/204-Daisy-Dr-Napa-CA-94558/2123165339_zpid/\n",
      "170 https://www.zillow.com/homedetails/3679-Parrett-Ave-Napa-CA-94558/19408643_zpid/\n",
      "171 https://www.zillow.com/homedetails/2-Pascale-Ct-Napa-CA-94558/108869887_zpid/\n",
      "172 https://www.zillow.com/homedetails/0-Foster-Rd-Napa-CA-94558/2099259258_zpid/\n",
      "173 https://www.zillow.com/homedetails/2806-Monticello-Rd-Napa-CA-94558/19405320_zpid/\n",
      "174 https://www.zillow.com/homedetails/6670-Gordon-Valley-Rd-Napa-CA-94558/2114771700_zpid/\n",
      "175 https://www.zillow.com/homedetails/0-Monticello-Rd-Napa-CA-94558/2104227781_zpid/\n",
      "176 https://www.zillow.com/homedetails/1135-Monticello-Rd-Napa-CA-94558/130980259_zpid/\n",
      "177 https://www.zillow.com/homedetails/259-Sugar-Loaf-Dr-Napa-CA-94558/2070911671_zpid/\n",
      "178 https://www.zillow.com/homedetails/1013-Arroyo-Linda-Ct-Napa-CA-94558/2076730220_zpid/\n",
      "179 https://www.zillow.com/homedetails/1312-Steele-Canyon-Rd-6-Napa-CA-94558/2088977688_zpid/\n",
      "180 https://www.zillow.com/homedetails/2941-Hilltop-Dr-Napa-CA-94558/19394034_zpid/\n",
      "181 https://www.zillow.com/homedetails/3195-Soda-Canyon-Rd-Napa-CA-94558/19405263_zpid/\n",
      "182 https://www.zillow.com/homedetails/3201-Soda-Canyon-Rd-Napa-CA-94558/130965051_zpid/\n",
      "183 https://www.zillow.com/homedetails/236-Mulford-Dr-Napa-CA-94558/19402423_zpid/\n",
      "184 https://www.zillow.com/homedetails/16-Gleneagle-Cir-Napa-CA-94558/19423886_zpid/\n",
      "185 https://www.zillow.com/homedetails/1163-Wyatt-Ave-Napa-CA-94559/250823611_zpid/\n",
      "186 https://www.zillow.com/homedetails/4411-Morse-Ct-Napa-CA-94558/54051502_zpid/\n",
      "187 https://www.zillow.com/homedetails/3398-E-Highway-128-Saint-Helena-CA-94574/2085498050_zpid/\n",
      "188 https://www.zillow.com/homedetails/3222-Villa-Ln-Napa-CA-94558/19415545_zpid/\n",
      "189 https://www.zillow.com/homedetails/1933-Jackson-St-San-Francisco-CA-94109/15073925_zpid/\n",
      "190 https://www.zillow.com/homedetails/2799-Laguna-St-San-Francisco-CA-94123/15072312_zpid/\n",
      "191 https://www.zillow.com/homedetails/61-Cragmont-Ave-San-Francisco-CA-94116/15115404_zpid/\n",
      "192 https://www.zillow.com/homedetails/1849-Chestnut-St-2-San-Francisco-CA-94123/2065778565_zpid/\n",
      "193 https://www.zillow.com/homedetails/728-Alabama-St-APT-205-San-Francisco-CA-94110/80741204_zpid/\n",
      "194 https://www.zillow.com/homedetails/6038-California-St-1-San-Francisco-CA-94121/79846199_zpid/\n",
      "195 https://www.zillow.com/homedetails/219-Brannan-St-UNIT-11K-San-Francisco-CA-94107/50887782_zpid/\n",
      "196 https://www.zillow.com/homedetails/1174-Eddy-St-UNIT-D-San-Francisco-CA-94109/15077478_zpid/\n",
      "197 https://www.zillow.com/homedetails/972-Dolores-St-B-San-Francisco-CA-94114/2065778623_zpid/\n",
      "198 https://www.zillow.com/homedetails/2482-Bush-St-San-Francisco-CA-94115/79844279_zpid/\n",
      "199 https://www.zillow.com/homedetails/63-Lafayette-St-APT-8-San-Francisco-CA-94103/59700357_zpid/\n",
      "200 https://www.zillow.com/homedetails/1245-1249-14th-Ave-San-Francisco-CA-94122/2065799312_zpid/\n",
      "201 https://www.zillow.com/community/residences-at-yerba-buena-island/2066488652_zpid/\n",
      "202 https://www.zillow.com/homedetails/1400-Mission-St-APT-405-San-Francisco-CA-94103/241585098_zpid/\n",
      "203 https://www.zillow.com/homedetails/380-10th-St-UNIT-8-San-Francisco-CA-94103/67090334_zpid/\n",
      "204 https://www.zillow.com/homedetails/2100-15th-Ave-San-Francisco-CA-94116/15118192_zpid/\n",
      "205 https://www.zillow.com/homedetails/22-Miraloma-Dr-San-Francisco-CA-94127/15136742_zpid/\n",
      "206 https://www.zillow.com/homedetails/366-Hill-St-San-Francisco-CA-94114/15146173_zpid/\n",
      "207 https://www.zillow.com/homedetails/55-Oak-St-405-San-Francisco-CA-94102/2065808005_zpid/\n",
      "208 https://www.zillow.com/homedetails/55-Oak-St-502-San-Francisco-CA-94102/2065808034_zpid/\n",
      "209 https://www.zillow.com/homedetails/55-Oak-St-302-San-Francisco-CA-94102/2065808048_zpid/\n",
      "210 https://www.zillow.com/homedetails/55-Oak-St-403-San-Francisco-CA-94102/2065808062_zpid/\n",
      "211 https://www.zillow.com/homedetails/825-La-Playa-St-APT-126-San-Francisco-CA-94121/15100703_zpid/\n",
      "212 https://www.zillow.com/homedetails/1288-Howard-St-328-San-Francisco-CA-94103/2065808380_zpid/\n",
      "213 https://www.zillow.com/homedetails/403-Main-St-APT-409N-San-Francisco-CA-94105/15148586_zpid/\n",
      "214 https://www.zillow.com/homedetails/1042-Tennessee-St-San-Francisco-CA-94107/15150979_zpid/\n",
      "215 https://www.zillow.com/homedetails/201-Harrison-St-APT-416-San-Francisco-CA-94105/15148231_zpid/\n",
      "216 https://www.zillow.com/homedetails/235-Berry-St-APT-114-San-Francisco-CA-94158/79843127_zpid/\n",
      "217 https://www.zillow.com/homedetails/55-Oak-St-407-San-Francisco-CA-94102/2065905364_zpid/\n",
      "218 https://www.zillow.com/homedetails/978-Rutland-St-San-Francisco-CA-94134/15175335_zpid/\n",
      "219 https://www.zillow.com/homedetails/252-Curtis-St-San-Francisco-CA-94112/15179347_zpid/\n",
      "220 https://www.zillow.com/community/san-francisco-shipyard-landing/2066407561_zpid/\n",
      "221 https://www.zillow.com/homedetails/1515-46th-Ave-San-Francisco-CA-94122/15107905_zpid/\n",
      "222 https://www.zillow.com/homedetails/2694-19th-Ave-San-Francisco-CA-94116/15125440_zpid/\n",
      "223 https://www.zillow.com/homedetails/10-Bertie-Minor-Ln-APT-4-San-Francisco-CA-94115/64971958_zpid/\n",
      "224 https://www.zillow.com/homedetails/8100-Oceanview-Ter-APT-305-San-Francisco-CA-94132/67090262_zpid/\n",
      "225 https://www.zillow.com/community/oneeleven/2077252418_zpid/\n",
      "226 https://www.zillow.com/community/2177-third-street/2077776280_zpid/\n",
      "227 https://www.zillow.com/homedetails/670-Mangels-Ave-San-Francisco-CA-94127/15137948_zpid/\n",
      "228 https://www.zillow.com/homedetails/2367-24th-Ave-San-Francisco-CA-94116/15120468_zpid/\n",
      "229 https://www.zillow.com/community/950-tennessee/2078002134_zpid/\n",
      "230 https://www.zillow.com/homedetails/1100-Broderick-St-San-Francisco-CA-94115/15084345_zpid/\n",
      "231 https://www.zillow.com/community/lofton-at-portola/2070904492_zpid/\n",
      "232 https://www.zillow.com/homedetails/888-Corbett-Ave-San-Francisco-CA-94131/15131029_zpid/\n",
      "233 https://www.zillow.com/homedetails/469-Fair-Oaks-St-San-Francisco-CA-94110/2066371179_zpid/\n",
      "234 https://www.zillow.com/homedetails/1916-Pine-St-APT-1-San-Francisco-CA-94109/15075068_zpid/\n",
      "235 https://www.zillow.com/homedetails/58-Valley-St-San-Francisco-CA-94110/15183080_zpid/\n",
      "236 https://www.zillow.com/homedetails/3622-20th-St-San-Francisco-CA-94110/49943839_zpid/\n",
      "237 https://www.zillow.com/homedetails/291-Raymond-Ave-San-Francisco-CA-94134/15174197_zpid/\n",
      "238 https://www.zillow.com/homedetails/401-Harrison-St-APT-24D-San-Francisco-CA-94105/249698536_zpid/\n",
      "239 https://www.zillow.com/homedetails/990-Green-St-APT-1-San-Francisco-CA-94133/15065957_zpid/\n",
      "240 https://www.zillow.com/homedetails/740-Peralta-Ave-San-Francisco-CA-94110/15162189_zpid/\n",
      "241 https://www.zillow.com/homedetails/399-Duncan-St-San-Francisco-CA-94131/59780052_zpid/\n",
      "242 https://www.zillow.com/homedetails/70-Arago-St-San-Francisco-CA-94112/15140305_zpid/\n",
      "243 https://www.zillow.com/homedetails/450-Hayes-St-UNIT-3C-San-Francisco-CA-94102/249698336_zpid/\n",
      "244 https://www.zillow.com/homedetails/1627-1631-Clay-St-San-Francisco-CA-94109/2066387432_zpid/\n",
      "245 https://www.zillow.com/homedetails/1298-Treat-Ave-San-Francisco-CA-94110/2108857638_zpid/\n",
      "246 https://www.zillow.com/homedetails/1515-15th-St-APT-503-San-Francisco-CA-94103/125308985_zpid/\n",
      "247 https://www.zillow.com/homedetails/590-592-29th-St-San-Francisco-CA-94131/332863096_zpid/\n",
      "248 https://www.zillow.com/community/san-francisco-shipyard-landing/2080851502_zpid/\n",
      "249 https://www.zillow.com/homedetails/1071-1077-Hampshire-St-San-Francisco-CA-94110/2067405341_zpid/\n",
      "250 https://www.zillow.com/homedetails/1110-S-Van-Ness-Ave-San-Francisco-CA-94110/2068548759_zpid/\n",
      "251 https://www.zillow.com/homedetails/58-Graystone-Ter-San-Francisco-CA-94114/15129643_zpid/\n",
      "252 https://www.zillow.com/homedetails/851-Van-Ness-Ave-UNIT-107-San-Francisco-CA-94109/60323092_zpid/\n",
      "253 https://www.zillow.com/homedetails/645-647-Lincoln-Way-San-Francisco-CA-94122/2066399234_zpid/\n",
      "254 https://www.zillow.com/homedetails/2049-15th-Ave-San-Francisco-CA-94116/15115524_zpid/\n",
      "255 https://www.zillow.com/homedetails/288-Pacific-Ave-3G-San-Francisco-CA-94111/2084112213_zpid/\n",
      "256 https://www.zillow.com/homedetails/8100-Oceanview-Ter-APT-416-San-Francisco-CA-94132/67394488_zpid/\n",
      "257 https://www.zillow.com/homedetails/31-33-Stillman-St-San-Francisco-CA-94107/2066401400_zpid/\n",
      "258 https://www.zillow.com/homedetails/101-Crescent-Way-APT-2410-San-Francisco-CA-94134/64972919_zpid/\n",
      "259 https://www.zillow.com/homedetails/201-Harrison-St-APT-931-San-Francisco-CA-94105/15148385_zpid/\n",
      "260 https://www.zillow.com/homedetails/220-Corbett-Ave-San-Francisco-CA-94114/82789823_zpid/\n",
      "261 https://www.zillow.com/homedetails/1-Bristol-Ct-322-San-Francisco-CA-94130/2066427004_zpid/\n",
      "262 https://www.zillow.com/homedetails/231-Dolores-St-San-Francisco-CA-94103/332859126_zpid/\n",
      "263 https://www.zillow.com/homedetails/870-Harrison-St-UNIT-206-San-Francisco-CA-94107/2099872916_zpid/\n",
      "264 https://www.zillow.com/homedetails/1006-1010-Masonic-Ave-San-Francisco-CA-94117/332853198_zpid/\n",
      "265 https://www.zillow.com/homedetails/733-Front-St-UNIT-413-San-Francisco-CA-94111/89239617_zpid/\n",
      "266 https://www.zillow.com/homedetails/488-Folsom-St-3604-San-Francisco-CA-94105/325647557_zpid/\n",
      "267 https://www.zillow.com/homedetails/2047-22nd-Ave-San-Francisco-CA-94116/15115837_zpid/\n",
      "268 https://www.zillow.com/homedetails/709-32nd-Ave-San-Francisco-CA-94121/15097240_zpid/\n",
      "269 https://www.zillow.com/homedetails/118-Manchester-St-San-Francisco-CA-94110/15160698_zpid/\n",
      "270 https://www.zillow.com/community/san-francisco-shipyard-monarch/2067829617_zpid/\n",
      "271 https://www.zillow.com/homedetails/901-Bush-St-APT-302-San-Francisco-CA-94109/89238746_zpid/\n",
      "272 https://www.zillow.com/homedetails/1816-23rd-St-San-Francisco-CA-94107/15151707_zpid/\n",
      "273 https://www.zillow.com/homedetails/49-Paloma-Ave-San-Francisco-CA-94127/15187080_zpid/\n",
      "274 https://www.zillow.com/homedetails/501-Beale-St-UNIT-7H-San-Francisco-CA-94105/69804614_zpid/\n",
      "275 https://www.zillow.com/homedetails/201-Folsom-St-42AB-San-Francisco-CA-94105/2066456636_zpid/\n",
      "276 https://www.zillow.com/homedetails/1-Crescent-Way-APT-1207-San-Francisco-CA-94134/64972872_zpid/\n",
      "277 https://www.zillow.com/homedetails/1-Daniel-Burnham-Ct-APT-622-San-Francisco-CA-94109/15076606_zpid/\n",
      "278 https://www.zillow.com/homedetails/140-S-Van-Ness-Ave-UNIT-717-San-Francisco-CA-94103/64969420_zpid/\n",
      "279 https://www.zillow.com/homedetails/1070-Post-St-APT-1-San-Francisco-CA-94109/2094926973_zpid/\n",
      "280 https://www.zillow.com/homedetails/5871-Mission-St-APT-4-San-Francisco-CA-94112/15178891_zpid/\n",
      "281 https://www.zillow.com/homedetails/506-Naples-St-San-Francisco-CA-94112/15171185_zpid/\n",
      "282 https://www.zillow.com/homedetails/390-Crescent-Ave-392-San-Francisco-CA-94110/332862075_zpid/\n",
      "283 https://www.zillow.com/homedetails/585-Mangels-Ave-San-Francisco-CA-94127/15138443_zpid/\n",
      "284 https://www.zillow.com/homedetails/625-El-Camino-Del-Mar-San-Francisco-CA-94121/15088837_zpid/\n",
      "285 https://www.zillow.com/homedetails/255-Berry-St-APT-308-San-Francisco-CA-94158/64972985_zpid/\n",
      "286 https://www.zillow.com/homedetails/3001-20th-St-San-Francisco-CA-94110/2070434812_zpid/\n",
      "287 https://www.zillow.com/homedetails/1515-15th-St-APT-405-San-Francisco-CA-94103/125309290_zpid/\n",
      "288 https://www.zillow.com/homedetails/1-Hawthorne-St-UNIT-5B-San-Francisco-CA-94105/122245372_zpid/\n",
      "289 https://www.zillow.com/homedetails/4125-17th-St-San-Francisco-CA-94114/59779595_zpid/\n",
      "290 https://www.zillow.com/homedetails/840-Powell-St-701-San-Francisco-CA-94108/15068187_zpid/\n",
      "291 https://www.zillow.com/homedetails/1-Wattson-Pl-UNIT-11-San-Francisco-CA-94112/63197685_zpid/\n",
      "292 https://www.zillow.com/homedetails/873-44th-Ave-San-Francisco-CA-94121/15100423_zpid/\n",
      "293 https://www.zillow.com/homedetails/3620-Market-St-APT-4-San-Francisco-CA-94131/15130571_zpid/\n",
      "294 https://www.zillow.com/homedetails/402-Lombard-St-San-Francisco-CA-94133/15064409_zpid/\n",
      "295 https://www.zillow.com/homedetails/55-Page-St-APT-323-San-Francisco-CA-94102/82785531_zpid/\n",
      "296 https://www.zillow.com/homedetails/765-Ofarrell-St-San-Francisco-CA-94109/2106996972_zpid/\n",
      "297 https://www.zillow.com/homedetails/601-Alabama-St-UNIT-303-San-Francisco-CA-94110/111711108_zpid/\n",
      "298 https://www.zillow.com/homedetails/858-Capp-St-1-San-Francisco-CA-94110/2067494424_zpid/\n",
      "299 https://www.zillow.com/community/san-francisco-shipyard-landing/2083281871_zpid/\n",
      "300 https://www.zillow.com/homedetails/148-152-Fillmore-St-San-Francisco-CA-94117/2079042929_zpid/\n",
      "301 https://www.zillow.com/homedetails/1310-Fillmore-St-APT-1005-San-Francisco-CA-94115/82785415_zpid/\n",
      "302 https://www.zillow.com/homedetails/3131-Pierce-St-304-San-Francisco-CA-94123/2068464296_zpid/\n",
      "303 https://www.zillow.com/homedetails/3131-Pierce-St-301-San-Francisco-CA-94123/2070897905_zpid/\n",
      "304 https://www.zillow.com/homedetails/555-4th-St-UNIT-647-San-Francisco-CA-94107/79847217_zpid/\n",
      "305 https://www.zillow.com/homedetails/42-Otis-St-301-San-Francisco-CA-94103/2066536504_zpid/\n",
      "306 https://www.zillow.com/homedetails/280-Spear-St-32B-San-Francisco-CA-94105/2066552334_zpid/\n",
      "307 https://www.zillow.com/homedetails/280-Spear-St-34F-San-Francisco-CA-94105/2078061937_zpid/\n",
      "308 https://www.zillow.com/homedetails/221-Clayton-St-San-Francisco-CA-94117/2066552498_zpid/\n",
      "309 https://www.zillow.com/homedetails/1201-California-St-UNIT-1104-San-Francisco-CA-94109/63196360_zpid/\n",
      "310 https://www.zillow.com/homedetails/5346-Mission-St-5350-San-Francisco-CA-94112/241587685_zpid/\n",
      "311 https://www.zillow.com/homedetails/200-Brannan-St-APT-326-San-Francisco-CA-94107/69817630_zpid/\n",
      "312 https://www.zillow.com/homedetails/765-Market-St-31CD-San-Francisco-CA-94103/63197350_zpid/\n",
      "313 https://www.zillow.com/homedetails/74-New-Montgomery-St-UNIT-304-San-Francisco-CA-94105/83153516_zpid/\n",
      "314 https://www.zillow.com/homedetails/3136-Fulton-St-1-San-Francisco-CA-94118/59779548_zpid/\n",
      "315 https://www.zillow.com/homedetails/718-Long-Bridge-St-APT-301-San-Francisco-CA-94158/184818229_zpid/\n",
      "316 https://www.zillow.com/homedetails/17-Guy-Pl-San-Francisco-CA-94105/2072280944_zpid/\n",
      "317 https://www.zillow.com/homedetails/2786-Bush-St-San-Francisco-CA-94115/2066603803_zpid/\n",
      "318 https://www.zillow.com/homedetails/1160-Mission-St-UNIT-1003-San-Francisco-CA-94103/82785879_zpid/\n",
      "319 https://www.zillow.com/homedetails/480-Mission-Bay-Blvd-317-San-Francisco-CA-94158/115828607_zpid/\n",
      "320 https://www.zillow.com/homedetails/960-Market-St-320-San-Francisco-CA-94102/2066612226_zpid/\n",
      "321 https://www.zillow.com/homedetails/1238-Sutter-St-UNIT-402-San-Francisco-CA-94109/303806595_zpid/\n",
      "322 https://www.zillow.com/homedetails/960-Market-St-208-San-Francisco-CA-94102/2069478322_zpid/\n",
      "323 https://www.zillow.com/homedetails/790-7th-Ave-APT-101-San-Francisco-CA-94118/15098767_zpid/\n",
      "324 https://www.zillow.com/homedetails/619-28th-Ave-APT-3-San-Francisco-CA-94121/2066572451_zpid/\n",
      "325 https://www.zillow.com/homedetails/829-Folsom-St-UNIT-506-San-Francisco-CA-94107/111921846_zpid/\n",
      "326 https://www.zillow.com/homedetails/343-347-Pierce-St-San-Francisco-CA-94117/2066638647_zpid/\n",
      "327 https://www.zillow.com/homedetails/945-947-Oak-St-San-Francisco-CA-94117/332851637_zpid/\n",
      "328 https://www.zillow.com/homedetails/25-27-S-Morrell-St-San-Francisco-CA-94109/2068428518_zpid/\n",
      "329 https://www.zillow.com/homedetails/588-Minna-St-203-San-Francisco-CA-94103/2082166352_zpid/\n",
      "330 https://www.zillow.com/homedetails/1378-1382-Alabama-St-San-Francisco-CA-94110/332861198_zpid/\n",
      "331 https://www.zillow.com/homedetails/301-Main-St-UNIT-3E-San-Francisco-CA-94105/89238002_zpid/\n",
      "332 https://www.zillow.com/homedetails/588-Minna-St-304-San-Francisco-CA-94103/2080795124_zpid/\n",
      "333 https://www.zillow.com/homedetails/338-Potrero-Ave-UNIT-405-San-Francisco-CA-94103/241586375_zpid/\n",
      "334 https://www.zillow.com/homedetails/280-Spear-St-22D-San-Francisco-CA-94105/2070596192_zpid/\n",
      "335 https://www.zillow.com/homedetails/990-Monterey-Blvd-San-Francisco-CA-94127/15138256_zpid/\n",
      "336 https://www.zillow.com/homedetails/2040-Franklin-St-APT-602-San-Francisco-CA-94109/15073807_zpid/\n",
      "337 https://www.zillow.com/homedetails/875-California-St-404-San-Francisco-CA-94108/2066699000_zpid/\n",
      "338 https://www.zillow.com/homedetails/8300-Oceanview-Ter-APT-214-San-Francisco-CA-94132/63107260_zpid/\n",
      "339 https://www.zillow.com/homedetails/875-California-St-203-San-Francisco-CA-94108/2066698999_zpid/\n",
      "340 https://www.zillow.com/homedetails/1264-Golden-Gate-Ave-A-San-Francisco-CA-94115/2146957889_zpid/\n",
      "341 https://www.zillow.com/homedetails/3424-19th-St-San-Francisco-CA-94110/2099571308_zpid/\n",
      "342 https://www.zillow.com/homedetails/479-32nd-Ave-San-Francisco-CA-94121/2084972438_zpid/\n",
      "343 https://www.zillow.com/homedetails/400-Beale-St-APT-702-San-Francisco-CA-94105/63197469_zpid/\n",
      "344 https://www.zillow.com/homedetails/30-Sheridan-St-San-Francisco-CA-94103/2066766033_zpid/\n",
      "345 https://www.zillow.com/homedetails/4128-3rd-St-San-Francisco-CA-94124/2097115110_zpid/\n",
      "346 https://www.zillow.com/homedetails/201-Harrison-St-APT-1029-San-Francisco-CA-94105/15148397_zpid/\n",
      "347 https://www.zillow.com/homedetails/28-Parker-Ave-APT-104-San-Francisco-CA-94118/2106139193_zpid/\n",
      "348 https://www.zillow.com/homedetails/318-Main-St-UNIT-4C-San-Francisco-CA-94105/249664396_zpid/\n",
      "349 https://www.zillow.com/homedetails/188-Minna-St-APT-30B-San-Francisco-CA-94105/80746495_zpid/\n",
      "350 https://www.zillow.com/homedetails/238-Broad-St-San-Francisco-CA-94112/15194513_zpid/\n",
      "351 https://www.zillow.com/homedetails/773-Minna-St-San-Francisco-CA-94103/111921538_zpid/\n",
      "352 https://www.zillow.com/homedetails/1400-Mission-St-1505-San-Francisco-CA-94103/303742050_zpid/\n",
      "353 https://www.zillow.com/homedetails/1400-Mission-St-1408-San-Francisco-CA-94103/303742047_zpid/\n",
      "354 https://www.zillow.com/homedetails/943-York-St-943-San-Francisco-CA-94110/2067262957_zpid/\n",
      "355 https://www.zillow.com/homedetails/776-Tehama-St-UNIT-14-San-Francisco-CA-94103/79843838_zpid/\n",
      "356 https://www.zillow.com/homedetails/39-Dashiell-Hammett-St-APT-401-San-Francisco-CA-94108/15068783_zpid/\n",
      "357 https://www.zillow.com/homedetails/39-Santa-Marina-St-San-Francisco-CA-94110/89238987_zpid/\n",
      "358 https://www.zillow.com/homedetails/280-Spear-St-25G-San-Francisco-CA-94105/2066809406_zpid/\n",
      "359 https://www.zillow.com/homedetails/300-Beale-St-APT-411-San-Francisco-CA-94105/80734264_zpid/\n",
      "360 https://www.zillow.com/homedetails/17-San-Carlos-St-San-Francisco-CA-94110/2066876613_zpid/\n",
      "361 https://www.zillow.com/homedetails/500-Balboa-St-San-Francisco-CA-94118/241584098_zpid/\n",
      "362 https://www.zillow.com/homedetails/42-Otis-St-407-San-Francisco-CA-94103/2066877669_zpid/\n",
      "363 https://www.zillow.com/homedetails/601-Van-Ness-Ave-APT-529-San-Francisco-CA-94102/15077685_zpid/\n",
      "364 https://www.zillow.com/homedetails/66-Cleary-Ct-APT-302-San-Francisco-CA-94109/15076863_zpid/\n",
      "365 https://www.zillow.com/homedetails/1145-Pine-St-APT-43-San-Francisco-CA-94109/2078745594_zpid/\n",
      "366 https://www.zillow.com/homedetails/280-Spear-St-7F-San-Francisco-CA-94105/2066932906_zpid/\n",
      "367 https://www.zillow.com/homedetails/280-Spear-St-6H-San-Francisco-CA-94105/2068017368_zpid/\n",
      "368 https://www.zillow.com/homedetails/300-Ivy-St-APT-303-San-Francisco-CA-94102/123174953_zpid/\n",
      "369 https://www.zillow.com/homedetails/1933-Jackson-St-San-Francisco-CA-94109/15073925_zpid/\n",
      "370 https://www.zillow.com/homedetails/2799-Laguna-St-San-Francisco-CA-94123/15072312_zpid/\n",
      "371 https://www.zillow.com/homedetails/61-Cragmont-Ave-San-Francisco-CA-94116/15115404_zpid/\n",
      "372 https://www.zillow.com/homedetails/1849-Chestnut-St-2-San-Francisco-CA-94123/2065778565_zpid/\n",
      "373 https://www.zillow.com/homedetails/728-Alabama-St-APT-205-San-Francisco-CA-94110/80741204_zpid/\n",
      "374 https://www.zillow.com/homedetails/6038-California-St-1-San-Francisco-CA-94121/79846199_zpid/\n",
      "375 https://www.zillow.com/homedetails/219-Brannan-St-UNIT-11K-San-Francisco-CA-94107/50887782_zpid/\n",
      "376 https://www.zillow.com/homedetails/1174-Eddy-St-UNIT-D-San-Francisco-CA-94109/15077478_zpid/\n",
      "377 https://www.zillow.com/homedetails/972-Dolores-St-B-San-Francisco-CA-94114/2065778623_zpid/\n",
      "378 https://www.zillow.com/homedetails/7431-Tulare-Hill-Dr-San-Jose-CA-95139/19841520_zpid/\n",
      "379 https://www.zillow.com/homedetails/3582-Sunnydale-Ct-San-Jose-CA-95117/19603871_zpid/\n",
      "380 https://www.zillow.com/homedetails/2935-Neal-Ave-San-Jose-CA-95128/19586854_zpid/\n",
      "381 https://www.zillow.com/homedetails/2281-Chesley-Dr-San-Jose-CA-95130/19658769_zpid/\n",
      "382 https://www.zillow.com/homedetails/175-W-Saint-James-St-UNIT-707-San-Jose-CA-95110/82956829_zpid/\n",
      "383 https://www.zillow.com/homedetails/1679-Fairwood-Ave-San-Jose-CA-95125/19692520_zpid/\n",
      "384 https://www.zillow.com/homedetails/860-Catkin-Ct-San-Jose-CA-95128/79841548_zpid/\n",
      "385 https://www.zillow.com/homedetails/361-Chateau-La-Salle-Dr-361-San-Jose-CA-95111/2065790786_zpid/\n",
      "386 https://www.zillow.com/homedetails/4111-Glenmont-Dr-San-Jose-CA-95136/19702659_zpid/\n",
      "387 https://www.zillow.com/homedetails/5776-Vitero-Way-San-Jose-CA-95138/19813037_zpid/\n",
      "388 https://www.zillow.com/homedetails/1421-Main-Entrance-Dr-San-Jose-CA-95131/19560219_zpid/\n",
      "389 https://www.zillow.com/homedetails/116-Springhaven-Ct-San-Jose-CA-95111/19816553_zpid/\n",
      "390 https://www.zillow.com/homedetails/781-College-Dr-San-Jose-CA-95128/19589966_zpid/\n",
      "391 https://www.zillow.com/homedetails/27-Deer-Run-Cir-San-Jose-CA-95136/19817320_zpid/\n",
      "392 https://www.zillow.com/homedetails/1904-Jonathan-Ave-San-Jose-CA-95125/19686498_zpid/\n",
      "393 https://www.zillow.com/homedetails/386-Via-Primavera-Dr-San-Jose-CA-95111/19816748_zpid/\n",
      "394 https://www.zillow.com/homedetails/3147-Promontory-Way-San-Jose-CA-95135/19797589_zpid/\n",
      "395 https://www.zillow.com/homedetails/5760-Condor-Cir-San-Jose-CA-95118/19754685_zpid/\n",
      "396 https://www.zillow.com/homedetails/2550-Poplarwood-Way-San-Jose-CA-95132/19484722_zpid/\n",
      "397 https://www.zillow.com/homedetails/831-Las-Palmas-Way-San-Jose-CA-95133/19573912_zpid/\n",
      "398 https://www.zillow.com/homedetails/1656-Klipspringer-Dr-San-Jose-CA-95124/19696070_zpid/\n",
      "399 https://www.zillow.com/homedetails/1459-Carrington-Cir-San-Jose-CA-95125/19693330_zpid/\n",
      "400 https://www.zillow.com/homedetails/5410-Fraschini-Cir-San-Jose-CA-95136/19707114_zpid/\n",
      "401 https://www.zillow.com/homedetails/5314-Lenora-Ave-San-Jose-CA-95124/19755936_zpid/\n",
      "402 https://www.zillow.com/homedetails/6187-Meridian-Ave-San-Jose-CA-95120/19761265_zpid/\n",
      "403 https://www.zillow.com/homedetails/5340-Woodstock-Way-San-Jose-CA-95118/19757460_zpid/\n",
      "404 https://www.zillow.com/homedetails/292-Stonegate-Cir-San-Jose-CA-95110/19684578_zpid/\n",
      "405 https://www.zillow.com/homedetails/7080-Coral-Gables-Cir-San-Jose-CA-95139/19841929_zpid/\n",
      "406 https://www.zillow.com/homedetails/5392-Hammerton-Ct-San-Jose-CA-95118/19759755_zpid/\n",
      "407 https://www.zillow.com/homedetails/6108-Banner-Ct-San-Jose-CA-95123/19821355_zpid/\n",
      "408 https://www.zillow.com/homedetails/3073-Brandywine-Dr-San-Jose-CA-95121/19739525_zpid/\n",
      "409 https://www.zillow.com/homedetails/367-Chateau-La-Salle-Dr-367-San-Jose-CA-95111/2079579136_zpid/\n",
      "410 https://www.zillow.com/homedetails/88-Bush-St-UNIT-4101-San-Jose-CA-95126/82952819_zpid/\n",
      "411 https://www.zillow.com/homedetails/1361-Turrett-Dr-San-Jose-CA-95131/19564499_zpid/\n",
      "412 https://www.zillow.com/homedetails/5313-Olstad-Ct-San-Jose-CA-95111/19808999_zpid/\n",
      "413 https://www.zillow.com/community/plaza-at-central/2066573572_zpid/\n",
      "414 https://www.zillow.com/homedetails/820-N-14th-St-San-Jose-CA-95112/153231506_zpid/\n",
      "415 https://www.zillow.com/homedetails/4841-Pebble-Glen-Dr-San-Jose-CA-95129/19649722_zpid/\n",
      "416 https://www.zillow.com/homedetails/2170-Bello-Ave-San-Jose-CA-95125/19692870_zpid/\n",
      "417 https://www.zillow.com/homedetails/359-S-Baywood-Ave-San-Jose-CA-95128/2096588518_zpid/\n",
      "418 https://www.zillow.com/homedetails/1152-Yarwood-Ct-San-Jose-CA-95128/79844812_zpid/\n",
      "419 https://www.zillow.com/homedetails/1225-Cherry-Ave-San-Jose-CA-95125/19680636_zpid/\n",
      "420 https://www.zillow.com/homedetails/5569-Del-Oro-Pl-San-Jose-CA-95124/19747954_zpid/\n",
      "421 https://www.zillow.com/homedetails/4466-Illsley-Ct-San-Jose-CA-95136/19706384_zpid/\n",
      "422 https://www.zillow.com/homedetails/3096-Dovela-Way-San-Jose-CA-95118/19693636_zpid/\n",
      "423 https://www.zillow.com/homedetails/6001-Castello-Dr-San-Jose-CA-95120/19763509_zpid/\n",
      "424 https://www.zillow.com/homedetails/379-S-20th-St-San-Jose-CA-95116/19712075_zpid/\n",
      "425 https://www.zillow.com/homedetails/144-S-3rd-St-UNIT-152-San-Jose-CA-95112/19712170_zpid/\n",
      "426 https://www.zillow.com/homedetails/1585-Mount-Herman-Dr-San-Jose-CA-95127/19786161_zpid/\n",
      "427 https://www.zillow.com/community/188-west-st-james/2078066668_zpid/\n",
      "428 https://www.zillow.com/homedetails/2863-Alwood-Ct-San-Jose-CA-95148/19791690_zpid/\n",
      "429 https://www.zillow.com/homedetails/6586-Broadacres-Dr-San-Jose-CA-95120/19761771_zpid/\n",
      "430 https://www.zillow.com/homedetails/658-N-14th-St-San-Jose-CA-95112/19568188_zpid/\n",
      "431 https://www.zillow.com/homedetails/654-Willis-Ave-San-Jose-CA-95125/19576762_zpid/\n",
      "432 https://www.zillow.com/homedetails/2801-Moss-Hollow-Dr-2801-San-Jose-CA-95121/2066450968_zpid/\n",
      "433 https://www.zillow.com/homedetails/181-N-18th-St-San-Jose-CA-95112/19710184_zpid/\n",
      "434 https://www.zillow.com/homedetails/1941-Biscayne-Way-San-Jose-CA-95122/19726231_zpid/\n",
      "435 https://www.zillow.com/homedetails/540-Bonita-Ave-301-San-Jose-CA-95116/2066454739_zpid/\n",
      "436 https://www.zillow.com/homedetails/520-N-5th-St-San-Jose-CA-95112/19568463_zpid/\n",
      "437 https://www.zillow.com/homedetails/2485-McLaughlin-Ave-San-Jose-CA-95121/19740741_zpid/\n",
      "438 https://www.zillow.com/homedetails/1915-Dry-Creek-Rd-Campbell-CA-95008/2066467830_zpid/\n",
      "439 https://www.zillow.com/homedetails/761-Willow-Glen-Way-San-Jose-CA-95125/19684416_zpid/\n",
      "440 https://www.zillow.com/homedetails/1885-Hamilton-Ave-San-Jose-CA-95125/153262408_zpid/\n",
      "441 https://www.zillow.com/homedetails/1713-Ringwood-Ave-San-Jose-CA-95131/334416241_zpid/\n",
      "442 https://www.zillow.com/homedetails/1425-McKendrie-St-San-Jose-CA-95126/112098344_zpid/\n",
      "443 https://www.zillow.com/homedetails/510-Saddlebrook-Dr-351-San-Jose-CA-95136/2066624951_zpid/\n",
      "444 https://www.zillow.com/homedetails/1148-Palm-St-San-Jose-CA-95110/19683106_zpid/\n",
      "445 https://www.zillow.com/homedetails/211-Proximity-Way-San-Jose-CA-95110/325806113_zpid/\n",
      "446 https://www.zillow.com/homedetails/810-Catkin-Ct-San-Jose-CA-95128/79842187_zpid/\n",
      "447 https://www.zillow.com/homedetails/25-Muirfield-Ct-San-Jose-CA-95116/19724727_zpid/\n",
      "448 https://www.zillow.com/homedetails/109-Ford-Rd-109-San-Jose-CA-95138/2066652971_zpid/\n",
      "449 https://www.zillow.com/homedetails/195-Blossom-Hill-Rd-LOT-135-San-Jose-CA-95123/153519802_zpid/\n",
      "450 https://www.zillow.com/homedetails/1048-Princess-Anne-Dr-San-Jose-CA-95128/153260378_zpid/\n",
      "451 https://www.zillow.com/homedetails/416-Leigh-Ave-San-Jose-CA-95128/19585469_zpid/\n",
      "452 https://www.zillow.com/homedetails/2150-Almaden-Rd-SPACE-52-San-Jose-CA-95125/153379795_zpid/\n",
      "453 https://www.zillow.com/homedetails/1413-El-Dorado-St-San-Jose-CA-95002/19470126_zpid/\n",
      "454 https://www.zillow.com/homedetails/3157-Kenland-Dr-San-Jose-CA-95111/19737138_zpid/\n",
      "455 https://www.zillow.com/homedetails/3800-Macbeth-Dr-San-Jose-CA-95127/19784510_zpid/\n",
      "456 https://www.zillow.com/homedetails/411-Lewis-Rd-SPACE-433-San-Jose-CA-95111/2067261481_zpid/\n",
      "457 https://www.zillow.com/homedetails/2580-Senter-Rd-SPACE-488-San-Jose-CA-95111/2076035051_zpid/\n",
      "458 https://www.zillow.com/homedetails/976-N-4th-St-San-Jose-CA-95112/2084050513_zpid/\n",
      "459 https://www.zillow.com/homedetails/3812-Dove-Hill-Rd-San-Jose-CA-95121/51075360_zpid/\n",
      "460 https://www.zillow.com/homedetails/535-E-Santa-Clara-St-San-Jose-CA-95112/2071905178_zpid/\n",
      "461 https://www.zillow.com/homedetails/3923-Suncrest-Ave-San-Jose-CA-95132/2081987527_zpid/\n",
      "462 https://www.zillow.com/homedetails/3487-Ramstad-Dr-San-Jose-CA-95127/153475037_zpid/\n",
      "463 https://www.zillow.com/homedetails/0-Vineyard-Dr-San-Jose-CA-95119/2079107806_zpid/\n",
      "464 https://www.zillow.com/homedetails/737-S-2nd-St-3-San-Jose-CA-95113/2072820264_zpid/\n",
      "465 https://www.zillow.com/homedetails/11435-Clayton-Rd-San-Jose-CA-95127/153474701_zpid/\n",
      "466 https://www.zillow.com/homedetails/2151-Oakland-Rd-SPC-79-San-Jose-CA-95131/2088050612_zpid/\n",
      "467 https://www.zillow.com/homedetails/4201-N-1st-St-464-San-Jose-CA-95134/243210814_zpid/\n",
      "468 https://www.zillow.com/homedetails/7431-Tulare-Hill-Dr-San-Jose-CA-95139/19841520_zpid/\n",
      "469 https://www.zillow.com/homedetails/3582-Sunnydale-Ct-San-Jose-CA-95117/19603871_zpid/\n",
      "470 https://www.zillow.com/homedetails/2935-Neal-Ave-San-Jose-CA-95128/19586854_zpid/\n",
      "471 https://www.zillow.com/homedetails/2281-Chesley-Dr-San-Jose-CA-95130/19658769_zpid/\n",
      "472 https://www.zillow.com/homedetails/175-W-Saint-James-St-UNIT-707-San-Jose-CA-95110/82956829_zpid/\n",
      "473 https://www.zillow.com/homedetails/1679-Fairwood-Ave-San-Jose-CA-95125/19692520_zpid/\n",
      "474 https://www.zillow.com/homedetails/860-Catkin-Ct-San-Jose-CA-95128/79841548_zpid/\n",
      "475 https://www.zillow.com/homedetails/361-Chateau-La-Salle-Dr-361-San-Jose-CA-95111/2065790786_zpid/\n",
      "476 https://www.zillow.com/homedetails/4111-Glenmont-Dr-San-Jose-CA-95136/19702659_zpid/\n",
      "477 https://www.zillow.com/homedetails/316-N-El-Camino-Real-APT-321-San-Mateo-CA-94401/15628812_zpid/\n",
      "478 https://www.zillow.com/homedetails/709-28th-Ave-San-Mateo-CA-94403/15536807_zpid/\n",
      "479 https://www.zillow.com/homedetails/450-Turner-Ter-San-Mateo-CA-94401/295378677_zpid/\n",
      "480 https://www.zillow.com/homedetails/104-S-Fremont-St-San-Mateo-CA-94401/15523822_zpid/\n",
      "481 https://www.zillow.com/homedetails/133-Burbank-Ave-San-Mateo-CA-94403/15545125_zpid/\n",
      "482 https://www.zillow.com/homedetails/2425-S-Norfolk-St-APT-302-San-Mateo-CA-94403/15633467_zpid/\n",
      "483 https://www.zillow.com/homedetails/605-Sylvan-Ave-San-Mateo-CA-94403/15537153_zpid/\n",
      "484 https://www.zillow.com/homedetails/1043-Yates-Way-San-Mateo-CA-94403/2098587040_zpid/\n",
      "485 https://www.zillow.com/homedetails/405-29th-Ave-San-Mateo-CA-94403/15537291_zpid/\n",
      "486 https://www.zillow.com/homedetails/1-Baldwin-Ave-APT-403-San-Mateo-CA-94401/15633528_zpid/\n",
      "487 https://www.zillow.com/homedetails/25-McAker-Ct-APT-125-San-Mateo-CA-94403/2083245486_zpid/\n",
      "488 https://www.zillow.com/homedetails/2828-Edison-St-APT-17-San-Mateo-CA-94403/15631662_zpid/\n",
      "489 https://www.zillow.com/homedetails/429-Cavanaugh-St-San-Mateo-CA-94401/15523220_zpid/\n",
      "490 https://www.zillow.com/homedetails/50-Mounds-Rd-APT-106-San-Mateo-CA-94402/15627694_zpid/\n",
      "491 https://www.zillow.com/homedetails/298-Waters-Park-Dr-101-San-Mateo-CA-94403/2066593608_zpid/\n",
      "492 https://www.zillow.com/homedetails/2226-S-Norfolk-St-San-Mateo-CA-94403/15531956_zpid/\n",
      "493 https://www.zillow.com/homedetails/818-N-Delaware-St-APT-314-San-Mateo-CA-94401/15641136_zpid/\n",
      "494 https://www.zillow.com/homedetails/1-Baldwin-Ave-APT-916-San-Mateo-CA-94401/15633655_zpid/\n",
      "495 https://www.zillow.com/homedetails/316-N-El-Camino-Real-APT-321-San-Mateo-CA-94401/15628812_zpid/\n",
      "496 https://www.zillow.com/homedetails/709-28th-Ave-San-Mateo-CA-94403/15536807_zpid/\n",
      "497 https://www.zillow.com/homedetails/450-Turner-Ter-San-Mateo-CA-94401/295378677_zpid/\n",
      "498 https://www.zillow.com/homedetails/104-S-Fremont-St-San-Mateo-CA-94401/15523822_zpid/\n",
      "499 https://www.zillow.com/homedetails/133-Burbank-Ave-San-Mateo-CA-94403/15545125_zpid/\n",
      "500 https://www.zillow.com/homedetails/2425-S-Norfolk-St-APT-302-San-Mateo-CA-94403/15633467_zpid/\n",
      "501 https://www.zillow.com/homedetails/605-Sylvan-Ave-San-Mateo-CA-94403/15537153_zpid/\n",
      "502 https://www.zillow.com/homedetails/1043-Yates-Way-San-Mateo-CA-94403/2098587040_zpid/\n",
      "503 https://www.zillow.com/homedetails/405-29th-Ave-San-Mateo-CA-94403/15537291_zpid/\n",
      "504 https://www.zillow.com/homedetails/1776-Laine-Ave-Santa-Clara-CA-95051/19551827_zpid/\n",
      "505 https://www.zillow.com/homedetails/322-Hayes-Ave-Santa-Clara-CA-95051/19601585_zpid/\n",
      "506 https://www.zillow.com/homedetails/3011-Santa-Maria-Ave-Santa-Clara-CA-95051/19555073_zpid/\n",
      "507 https://www.zillow.com/community/lavender/2065797047_zpid/\n",
      "508 https://www.zillow.com/community/lavender/2065797045_zpid/\n",
      "509 https://www.zillow.com/community/lavender/2065797043_zpid/\n",
      "510 https://www.zillow.com/community/lavender/2065797044_zpid/\n",
      "511 https://www.zillow.com/community/lavender/2065797048_zpid/\n",
      "512 https://www.zillow.com/homedetails/884-Bing-Dr-Santa-Clara-CA-95051/153267740_zpid/\n",
      "513 https://www.zillow.com/homedetails/881-Burbank-Dr-Santa-Clara-CA-95051/153267753_zpid/\n",
      "514 https://www.zillow.com/homedetails/2516-Parkland-Ct-Santa-Clara-CA-95051/19552386_zpid/\n",
      "515 https://www.zillow.com/homedetails/2639-Kerryshire-Ln-Santa-Clara-CA-95051/19553569_zpid/\n",
      "516 https://www.zillow.com/homedetails/2796-Donovan-Ave-Santa-Clara-CA-95051/19551581_zpid/\n",
      "517 https://www.zillow.com/homedetails/2637-Landslide-Ct-Santa-Clara-CA-95051/19552968_zpid/\n",
      "518 https://www.zillow.com/community/east-lawrence-station/2072084863_zpid/\n",
      "519 https://www.zillow.com/homedetails/2533-Amethyst-Dr-Santa-Clara-CA-95051/19552731_zpid/\n",
      "520 https://www.zillow.com/homedetails/1883-Agnew-Rd-UNIT-218-Santa-Clara-CA-95054/79845074_zpid/\n",
      "521 https://www.zillow.com/homedetails/197-N-Cypress-Ave-Santa-Clara-CA-95050/2078854737_zpid/\n",
      "522 https://www.zillow.com/homedetails/1776-Laine-Ave-Santa-Clara-CA-95051/19551827_zpid/\n",
      "523 https://www.zillow.com/homedetails/322-Hayes-Ave-Santa-Clara-CA-95051/19601585_zpid/\n",
      "524 https://www.zillow.com/homedetails/3011-Santa-Maria-Ave-Santa-Clara-CA-95051/19555073_zpid/\n",
      "525 https://www.zillow.com/community/lavender/2065797047_zpid/\n",
      "526 https://www.zillow.com/community/lavender/2065797045_zpid/\n",
      "527 https://www.zillow.com/community/lavender/2065797043_zpid/\n",
      "528 https://www.zillow.com/community/lavender/2065797044_zpid/\n",
      "529 https://www.zillow.com/community/lavender/2065797048_zpid/\n",
      "530 https://www.zillow.com/homedetails/884-Bing-Dr-Santa-Clara-CA-95051/153267740_zpid/\n",
      "531 https://www.zillow.com/homedetails/537-Morningstar-Way-Vacaville-CA-95687/15717039_zpid/\n",
      "532 https://www.zillow.com/homedetails/1044-Diamante-Dr-Rio-Vista-CA-94571/82971042_zpid/\n",
      "533 https://www.zillow.com/homedetails/742-Northampton-Dr-Vacaville-CA-95687/15718325_zpid/\n",
      "534 https://www.zillow.com/homedetails/1119-Mayfield-Cir-Suisun-City-CA-94585/15738159_zpid/\n",
      "535 https://www.zillow.com/homedetails/0-Canal-Ln-Winters-CA-95694/2069182733_zpid/\n",
      "536 https://www.zillow.com/homedetails/219-Willow-Green-Way-Vacaville-CA-95687/15713812_zpid/\n",
      "537 https://www.zillow.com/homedetails/161-Sunrise-Way-Vallejo-CA-94591/15677347_zpid/\n",
      "538 https://www.zillow.com/homedetails/539-Cambridge-Dr-Benicia-CA-94510/15683558_zpid/\n",
      "539 https://www.zillow.com/homedetails/806-Spoonbill-Ln-Suisun-City-CA-94585/15734758_zpid/\n",
      "540 https://www.zillow.com/homedetails/22-Monte-Vista-Ave-Vallejo-CA-94590/15656360_zpid/\n",
      "541 https://www.zillow.com/community/marigold-at-villages/2070904484_zpid/\n",
      "542 https://www.zillow.com/homedetails/1018-5th-St-Fairfield-CA-94533/15645693_zpid/\n",
      "543 https://www.zillow.com/homedetails/185-Bridlewood-Ct-Vallejo-CA-94591/15692288_zpid/\n",
      "544 https://www.zillow.com/homedetails/600-Decoy-Ln-Suisun-City-CA-94585/15735403_zpid/\n",
      "545 https://www.zillow.com/homedetails/802-Derry-Cir-Vacaville-CA-95688/15711682_zpid/\n",
      "546 https://www.zillow.com/homedetails/731-Rambleton-Dr-Vacaville-CA-95688/15700932_zpid/\n",
      "547 https://www.zillow.com/homedetails/206-Alta-Mira-Dr-Vacaville-CA-95688/15705830_zpid/\n",
      "548 https://www.zillow.com/homedetails/1043-Maple-Ave-Vallejo-CA-94591/15669806_zpid/\n",
      "549 https://www.zillow.com/homedetails/527-Thomas-Cir-Suisun-City-CA-94585/15650274_zpid/\n",
      "550 https://www.zillow.com/homedetails/1127-Magazine-St-Vallejo-CA-94591/15672997_zpid/\n",
      "551 https://www.zillow.com/homedetails/6648-Liberty-Island-Rd-Dixon-CA-95620/249639521_zpid/\n",
      "552 https://www.zillow.com/homedetails/205-S-2nd-St-A-Rio-Vista-CA-94571/2066355623_zpid/\n",
      "553 https://www.zillow.com/homedetails/890-Royal-Elf-Ct-Dixon-CA-95620/15697935_zpid/\n",
      "554 https://www.zillow.com/homedetails/448-Potters-Ln-Vacaville-CA-95687/119205913_zpid/\n",
      "555 https://www.zillow.com/community/carmello-at-roberts-ranch/2068023743_zpid/\n",
      "556 https://www.zillow.com/community/homestead/2070957649_zpid/\n",
      "557 https://www.zillow.com/homedetails/3092-Orchard-View-Ct-Fairfield-CA-94534/15725028_zpid/\n",
      "558 https://www.zillow.com/homedetails/4387-Canada-Way-Rio-Vista-CA-94571/300243117_zpid/\n",
      "559 https://www.zillow.com/homedetails/4347-Canada-Way-Rio-Vista-CA-94571/300243122_zpid/\n",
      "560 https://www.zillow.com/homedetails/2120-Lavender-Pl-Rio-Vista-CA-94571/300242980_zpid/\n",
      "561 https://www.zillow.com/homedetails/2191-Revival-Ln-Rio-Vista-CA-94571/300242971_zpid/\n",
      "562 https://www.zillow.com/homedetails/4362-The-Masters-Dr-Fairfield-CA-94533/15729402_zpid/\n",
      "563 https://www.zillow.com/community/homestead/2070957644_zpid/\n",
      "564 https://www.zillow.com/community/one-lake-creston/2077520554_zpid/\n",
      "565 https://www.zillow.com/homedetails/514-San-Remo-St-Fairfield-CA-94533/15648128_zpid/\n",
      "566 https://www.zillow.com/community/savannah-ii-at-homestead/2077104591_zpid/\n",
      "567 https://www.zillow.com/community/homestead/2070957643_zpid/\n",
      "568 https://www.zillow.com/homedetails/207-Lone-Oak-Dr-Vacaville-CA-95688/15701231_zpid/\n",
      "569 https://www.zillow.com/homedetails/315-Glenview-Cir-Vallejo-CA-94591/15678202_zpid/\n",
      "570 https://www.zillow.com/homedetails/5343-Suisun-Valley-Rd-Fairfield-CA-94534/247629855_zpid/\n",
      "571 https://www.zillow.com/community/reserve-at-browns-valley/2066857240_zpid/\n",
      "572 https://www.zillow.com/community/sutton-at-parklane/2072277400_zpid/\n",
      "573 https://www.zillow.com/community/farmstead-square-in-vacaville/2077104733_zpid/\n",
      "574 https://www.zillow.com/community/sheffield-at-brighton-landing/2079756716_zpid/\n",
      "575 https://www.zillow.com/community/summit-at-liberty/2082796868_zpid/\n",
      "576 https://www.zillow.com/homedetails/901-Alabama-St-Vallejo-CA-94590/15657381_zpid/\n",
      "577 https://www.zillow.com/homedetails/8675-Quail-Canyon-Rd-Vacaville-CA-95688/2066511649_zpid/\n",
      "578 https://www.zillow.com/homedetails/2841-Retreat-Way-Fairfield-CA-94533/318582000_zpid/\n",
      "579 https://www.zillow.com/homedetails/5400-Williams-Rd-Fairfield-CA-94534/249639523_zpid/\n",
      "580 https://www.zillow.com/homedetails/127-Daniels-Ave-Vallejo-CA-94590/15652356_zpid/\n",
      "581 https://www.zillow.com/homedetails/106-Farallon-Dr-Vallejo-CA-94590/15656689_zpid/\n",
      "582 https://www.zillow.com/homedetails/2280-Bennington-Dr-Vallejo-CA-94591/111925190_zpid/\n",
      "583 https://www.zillow.com/homedetails/536-San-Dimas-St-Fairfield-CA-94533/15648164_zpid/\n",
      "584 https://www.zillow.com/homedetails/800-E-7th-St-Benicia-CA-94510/241384803_zpid/\n",
      "585 https://www.zillow.com/homedetails/7038-Robindale-Ln-Vacaville-CA-95688/15700229_zpid/\n",
      "586 https://www.zillow.com/homedetails/807-Daniels-Ave-Vallejo-CA-94590/63058200_zpid/\n",
      "587 https://www.zillow.com/homedetails/343-Silver-Ridge-Dr-Rio-Vista-CA-94571/241450587_zpid/\n",
      "588 https://www.zillow.com/homedetails/751-Bridle-Ridge-Ct-Fairfield-CA-94534/110281075_zpid/\n",
      "589 https://www.zillow.com/homedetails/965-Benicia-Rd-Vallejo-CA-94591/89473953_zpid/\n",
      "590 https://www.zillow.com/homedetails/6953-La-Vera-Ct-Vacaville-CA-95688/178330035_zpid/\n",
      "591 https://www.zillow.com/homedetails/220-Hidden-Valley-Ln-Vacaville-CA-95688/15702247_zpid/\n",
      "592 https://www.zillow.com/homedetails/5034-Brown-Ln-Fairfield-CA-94533/69027714_zpid/\n",
      "593 https://www.zillow.com/homedetails/1502-Coolidge-St-Fairfield-CA-94533/15646577_zpid/\n",
      "594 https://www.zillow.com/homedetails/4897-Bowman-Rd-Winters-CA-95694/318581681_zpid/\n",
      "595 https://www.zillow.com/homedetails/219-E-Wyoming-St-Fairfield-CA-94533/2088808952_zpid/\n",
      "596 https://www.zillow.com/homedetails/2155-Lavender-Pl-Rio-Vista-CA-94571/300242958_zpid/\n",
      "597 https://www.zillow.com/homedetails/139-Goldenrod-St-Vallejo-CA-94589/61733423_zpid/\n",
      "598 https://www.zillow.com/homedetails/1346-Misawa-Ct-Vallejo-CA-94591/96788260_zpid/\n",
      "599 https://www.zillow.com/homedetails/179-Wykoff-Dr-Vacaville-CA-95688/111929441_zpid/\n",
      "600 https://www.zillow.com/homedetails/108-Carlsbad-Cir-Vacaville-CA-95687/111923081_zpid/\n",
      "601 https://www.zillow.com/homedetails/1020-Mulberry-Ct-Vacaville-CA-95688/111926787_zpid/\n",
      "602 https://www.zillow.com/homedetails/3872-Ciarlo-Ln-Vacaville-CA-95688/2093966643_zpid/\n",
      "603 https://www.zillow.com/homedetails/439-Railroad-Ave-Suisun-City-CA-94585/15649816_zpid/\n",
      "604 https://www.zillow.com/homedetails/4117-Caligiuri-Canyon-Rd-Vacaville-CA-95688/318581712_zpid/\n",
      "605 https://www.zillow.com/homedetails/0-Gibson-Canyon-Rd-Vacaville-CA-95688/2110811846_zpid/\n",
      "606 https://www.zillow.com/homedetails/0-Seneca-Ct-Vacaville-CA-95688/2090193144_zpid/\n",
      "607 https://www.zillow.com/homedetails/2024-Pinecrest-Ct-Vacaville-CA-95688/111921658_zpid/\n",
      "608 https://www.zillow.com/homedetails/0-Stagecoach-Ln-Vacaville-CA-95688/2087492794_zpid/\n",
      "609 https://www.zillow.com/homedetails/0-Mankas-Ct-Fairfield-CA-94534/2067538366_zpid/\n",
      "610 https://www.zillow.com/homedetails/0-Marshall-Rd-Vacaville-CA-95688/2098420351_zpid/\n",
      "611 https://www.zillow.com/homedetails/746-Bridle-Ridge-Ct-Fairfield-CA-94534/96750578_zpid/\n",
      "612 https://www.zillow.com/homedetails/537-Morningstar-Way-Vacaville-CA-95687/15717039_zpid/\n",
      "613 https://www.zillow.com/homedetails/1044-Diamante-Dr-Rio-Vista-CA-94571/82971042_zpid/\n",
      "614 https://www.zillow.com/homedetails/742-Northampton-Dr-Vacaville-CA-95687/15718325_zpid/\n",
      "615 https://www.zillow.com/homedetails/1119-Mayfield-Cir-Suisun-City-CA-94585/15738159_zpid/\n",
      "616 https://www.zillow.com/homedetails/0-Canal-Ln-Winters-CA-95694/2069182733_zpid/\n",
      "617 https://www.zillow.com/homedetails/219-Willow-Green-Way-Vacaville-CA-95687/15713812_zpid/\n",
      "618 https://www.zillow.com/homedetails/161-Sunrise-Way-Vallejo-CA-94591/15677347_zpid/\n",
      "619 https://www.zillow.com/homedetails/539-Cambridge-Dr-Benicia-CA-94510/15683558_zpid/\n",
      "620 https://www.zillow.com/homedetails/806-Spoonbill-Ln-Suisun-City-CA-94585/15734758_zpid/\n",
      "621 https://www.zillow.com/homedetails/96-Vista-Cir-Sonoma-CA-95476/119690722_zpid/\n",
      "622 https://www.zillow.com/homedetails/3393-White-Alder-Sonoma-CA-95476/15838073_zpid/\n",
      "623 https://www.zillow.com/homedetails/1496-Nut-Tree-Ln-Sonoma-CA-95476/15828614_zpid/\n",
      "624 https://www.zillow.com/homedetails/17250-Hillside-Ave-Sonoma-CA-95476/2065807800_zpid/\n",
      "625 https://www.zillow.com/homedetails/705-Jericho-Rd-Sonoma-CA-95476/15797006_zpid/\n",
      "626 https://www.zillow.com/homedetails/538-3rd-St-E-Sonoma-CA-95476/15769993_zpid/\n",
      "627 https://www.zillow.com/homedetails/550-Donald-St-Sonoma-CA-95476/15827714_zpid/\n",
      "628 https://www.zillow.com/homedetails/1283-Felder-Rd-Sonoma-CA-95476/15837305_zpid/\n",
      "629 https://www.zillow.com/homedetails/18350-Arnold-Dr-Sonoma-CA-95476/15796679_zpid/\n",
      "630 https://www.zillow.com/homedetails/19357-Sonoma-Hwy-Sonoma-CA-95476/2069644555_zpid/\n",
      "631 https://www.zillow.com/homedetails/1880-Katie-Ln-Sonoma-CA-95476/15831487_zpid/\n",
      "632 https://www.zillow.com/homedetails/18754-Canyon-Rd-Sonoma-CA-95476/300261805_zpid/\n",
      "633 https://www.zillow.com/homedetails/200-Desnudos-Way-Sonoma-CA-95476/300264231_zpid/\n",
      "634 https://www.zillow.com/homedetails/20540-Broadway-Sonoma-CA-95476/2080917143_zpid/\n",
      "635 https://www.zillow.com/homedetails/17333-Gehricke-Rd-Sonoma-CA-95476/300264293_zpid/\n",
      "636 https://www.zillow.com/homedetails/990-Cavedale-Rd-Sonoma-CA-95476/300261312_zpid/\n",
      "637 https://www.zillow.com/homedetails/96-Vista-Cir-Sonoma-CA-95476/119690722_zpid/\n",
      "638 https://www.zillow.com/homedetails/3393-White-Alder-Sonoma-CA-95476/15838073_zpid/\n",
      "639 https://www.zillow.com/homedetails/1496-Nut-Tree-Ln-Sonoma-CA-95476/15828614_zpid/\n",
      "640 https://www.zillow.com/homedetails/17250-Hillside-Ave-Sonoma-CA-95476/2065807800_zpid/\n",
      "641 https://www.zillow.com/homedetails/705-Jericho-Rd-Sonoma-CA-95476/15797006_zpid/\n",
      "642 https://www.zillow.com/homedetails/538-3rd-St-E-Sonoma-CA-95476/15769993_zpid/\n",
      "643 https://www.zillow.com/homedetails/550-Donald-St-Sonoma-CA-95476/15827714_zpid/\n",
      "644 https://www.zillow.com/homedetails/1283-Felder-Rd-Sonoma-CA-95476/15837305_zpid/\n",
      "645 https://www.zillow.com/homedetails/18350-Arnold-Dr-Sonoma-CA-95476/15796679_zpid/\n"
     ]
    }
   ],
   "source": [
    "# Property & Zillow Property & Zestimates Stats\n",
    "\n",
    "# intialising the variables to collect the attributes\n",
    "address = []\n",
    "county = []\n",
    "zip_code = []\n",
    "\n",
    "prop_stats = []\n",
    "\n",
    "prices = []\n",
    "\n",
    "zillow_stats = []\n",
    "zestimates = []\n",
    "\n",
    "c = 0\n",
    "for prop_link in ans['URL']:\n",
    "    r = requests.get(prop_link, headers=req_headers)\n",
    "    soup = BS(r.content, 'html.parser')\n",
    "    print(c,prop_link) # to get the progress and helpful in debugging\n",
    "    \n",
    "    attr = get_address(soup.title.text)\n",
    "    \n",
    "    address.append(attr[0])\n",
    "    zip_code.append(attr[-1])\n",
    "                \n",
    "    prop_spec = []\n",
    "    \n",
    "    if len(soup.find_all(class_='hdp__sc-rfpg3m-0 bqcSTm')[:3]) != 3:\n",
    "        \n",
    "        prop_spec.extend(['0 bd','0 ba','0 sqft'])\n",
    "    \n",
    "    else:\n",
    "        for attr in soup.find_all(class_='hdp__sc-rfpg3m-0 bqcSTm')[:3]:\n",
    "\n",
    "            prop_spec.append(attr.text)\n",
    "    prop_stats.append(prop_spec)\n",
    "    \n",
    "            \n",
    "    \n",
    "    \n",
    "    \n",
    "    \n",
    "    #Prices\n",
    "    \n",
    "    try:\n",
    "        prices.append(soup.find(class_ = 'Text-c11n-8-62-5__sc-aiai24-0 hdp__sc-b5iact-0 frfoXM fAzOKk').text)\n",
    "        \n",
    "    except:\n",
    "        prices.append('0')\n",
    "        \n",
    "    prop_stat = []\n",
    "    ezest = []\n",
    "    \n",
    "    # Zillow stats\n",
    "    for prop in soup.find_all(class_ = \"hdp__sc-qe1dn6-1 kxkPKM\"):\n",
    "        \n",
    "        for attr in prop.find_all(class_='Text-c11n-8-62-5__sc-aiai24-0 eqgHgX'):\n",
    "            prop_stat.append(attr.text)\n",
    "    zillow_stats.append(prop_stat)\n",
    "    \n",
    "    \n",
    "    \n",
    "    # Zestimates\n",
    "    for zestimate in soup.find_all(class_ = \"Text-c11n-8-62-5__sc-aiai24-0 kHJjYI\"):\n",
    "        ezest.append(zestimate.text)\n",
    "        \n",
    "    zestimates.append(ezest)\n",
    "    \n",
    "    c = c +1\n",
    "    \n",
    "       "
   ]
  },
  {
   "cell_type": "markdown",
   "metadata": {},
   "source": [
    "* Total `646` (more than 600) Properties data is scraped intially."
   ]
  },
  {
   "cell_type": "code",
   "execution_count": 20,
   "metadata": {},
   "outputs": [],
   "source": [
    "ans['Address'] = address\n",
    "ans['Zip Code'] = zip_code"
   ]
  },
  {
   "cell_type": "code",
   "execution_count": 13,
   "metadata": {},
   "outputs": [],
   "source": [
    "bedrooms = []\n",
    "bathrooms = []\n",
    "area = []\n",
    "\n",
    "for attr in prop_stats:\n",
    "    \n",
    "    bedrooms.append(attr[0].split()[0])\n",
    "    bathrooms.append(attr[1].split()[0])\n",
    "    area.append(attr[2].split()[0])\n",
    "    \n",
    "    \n",
    "ans['Bedrooms'] = bedrooms\n",
    "ans['Bathrooms'] = bathrooms\n",
    "ans['Area (sqft)'] = area"
   ]
  },
  {
   "cell_type": "code",
   "execution_count": 14,
   "metadata": {},
   "outputs": [],
   "source": [
    "time_on_zillow = []\n",
    "views = []\n",
    "saves = []\n",
    "zestimate_price = []\n",
    "estimated_monthly_cost = []\n",
    "\n",
    "\n",
    "for stat in zillow_stats:\n",
    "    #print('stat = ', stat)\n",
    "    if len(stat) != 3:\n",
    "        time_on_zillow.append('0')\n",
    "        views.append('0')\n",
    "        saves.append('0')\n",
    "    else:\n",
    "        time_on_zillow.append(stat[0])\n",
    "        views.append(stat[1])\n",
    "        saves.append(stat[2])\n",
    "    \n",
    "for zestimate in zestimates:\n",
    "    if len(zestimate) != 3:\n",
    "        zestimate_price.append('0')\n",
    "        estimated_monthly_cost.append('0')\n",
    "    else:    \n",
    "        zestimate_price.append(zestimate[0])\n",
    "        estimated_monthly_cost.append(zestimate[2][:-3])\n",
    "    \n",
    "ans['Time on Zillow'] = time_on_zillow\n",
    "ans['Views'] = views\n",
    "ans['Saves'] = saves\n",
    "ans['Price ($)'] = prices\n",
    "ans['Zestimate Price ($)'] = zestimate_price\n",
    "ans['Estimated Monthly Cost ($)'] = estimated_monthly_cost"
   ]
  },
  {
   "cell_type": "code",
   "execution_count": 15,
   "metadata": {},
   "outputs": [
    {
     "name": "stdout",
     "output_type": "stream",
     "text": [
      "<class 'pandas.core.frame.DataFrame'>\n",
      "RangeIndex: 646 entries, 0 to 645\n",
      "Data columns (total 13 columns):\n",
      " #   Column                      Non-Null Count  Dtype \n",
      "---  ------                      --------------  ----- \n",
      " 0   URL                         646 non-null    object\n",
      " 1   County                      646 non-null    object\n",
      " 2   Address                     646 non-null    object\n",
      " 3   Zip Code                    646 non-null    object\n",
      " 4   Bedrooms                    646 non-null    object\n",
      " 5   Bathrooms                   646 non-null    object\n",
      " 6   Area (sqft)                 646 non-null    object\n",
      " 7   Time on Zillow              646 non-null    object\n",
      " 8   Views                       646 non-null    object\n",
      " 9   Saves                       646 non-null    object\n",
      " 10  Price ($)                   646 non-null    object\n",
      " 11  Zestimate Price ($)         646 non-null    object\n",
      " 12  Estimated Monthly Cost ($)  646 non-null    object\n",
      "dtypes: object(13)\n",
      "memory usage: 65.7+ KB\n"
     ]
    }
   ],
   "source": [
    "# Data Information\n",
    "ans.info()"
   ]
  },
  {
   "cell_type": "code",
   "execution_count": 53,
   "metadata": {},
   "outputs": [
    {
     "data": {
      "text/plain": [
       "Index(['URL', 'County', 'Address', 'Zip Code', 'Bedrooms', 'Bathrooms',\n",
       "       'Area (sqft)', 'Time on Zillow', 'Views', 'Saves', 'Price ($)',\n",
       "       'Zestimate Price ($)', 'Estimated Monthly Cost ($)'],\n",
       "      dtype='object')"
      ]
     },
     "execution_count": 53,
     "metadata": {},
     "output_type": "execute_result"
    }
   ],
   "source": [
    "ans.columns"
   ]
  },
  {
   "cell_type": "markdown",
   "metadata": {},
   "source": [
    "* Collected the following attributes of the properties:\n",
    "    1. 'URL', \n",
    "    2. 'County', \n",
    "    3. 'Address', \n",
    "    4. 'Zip Code', \n",
    "    5. 'Bedrooms', \n",
    "    6.'Bathrooms',\n",
    "    7. 'Area (sqft)', \n",
    "    8. 'Time on Zillow', \n",
    "    9. 'Views', 'Saves', \n",
    "    10. 'Price',\n",
    "    11. 'Zestimate Price', \n",
    "    12. 'Estimated Monthly Cost'"
   ]
  },
  {
   "cell_type": "markdown",
   "metadata": {},
   "source": [
    "### Data Cleaning"
   ]
  },
  {
   "cell_type": "markdown",
   "metadata": {},
   "source": [
    "#### Data type casting"
   ]
  },
  {
   "cell_type": "code",
   "execution_count": 38,
   "metadata": {},
   "outputs": [],
   "source": [
    "def format_into_number(obj):\n",
    "    '''\n",
    "    returns the type casted integer after cleaning the string object\n",
    "    '''\n",
    "    \n",
    "    return int(obj.translate({ord(i): None for i in ',$from '}))"
   ]
  },
  {
   "cell_type": "code",
   "execution_count": 40,
   "metadata": {},
   "outputs": [],
   "source": [
    "# Numeric Attributes\n",
    "\n",
    "numeric_attrs = ['Bedrooms', 'Bathrooms', 'Area (sqft)',\n",
    "        'Views', 'Saves', 'Price ($)','Zestimate Price ($)',\n",
    "       'Estimated Monthly Cost ($)']"
   ]
  },
  {
   "cell_type": "code",
   "execution_count": 41,
   "metadata": {},
   "outputs": [],
   "source": [
    "ans.replace({'--':'0'},inplace=True)"
   ]
  },
  {
   "cell_type": "code",
   "execution_count": 42,
   "metadata": {},
   "outputs": [],
   "source": [
    "for attr in numeric_attrs:\n",
    "    if ans.dtypes[attr] == 'object':\n",
    "        ans[attr] = ans[attr].apply(format_into_number)"
   ]
  },
  {
   "cell_type": "code",
   "execution_count": 55,
   "metadata": {},
   "outputs": [
    {
     "data": {
      "text/html": [
       "<div>\n",
       "<style scoped>\n",
       "    .dataframe tbody tr th:only-of-type {\n",
       "        vertical-align: middle;\n",
       "    }\n",
       "\n",
       "    .dataframe tbody tr th {\n",
       "        vertical-align: top;\n",
       "    }\n",
       "\n",
       "    .dataframe thead th {\n",
       "        text-align: right;\n",
       "    }\n",
       "</style>\n",
       "<table border=\"1\" class=\"dataframe\">\n",
       "  <thead>\n",
       "    <tr style=\"text-align: right;\">\n",
       "      <th></th>\n",
       "      <th>URL</th>\n",
       "      <th>County</th>\n",
       "      <th>Address</th>\n",
       "      <th>Zip Code</th>\n",
       "      <th>Bedrooms</th>\n",
       "      <th>Bathrooms</th>\n",
       "      <th>Area (sqft)</th>\n",
       "      <th>Time on Zillow</th>\n",
       "      <th>Views</th>\n",
       "      <th>Saves</th>\n",
       "      <th>Price ($)</th>\n",
       "      <th>Zestimate Price ($)</th>\n",
       "      <th>Estimated Monthly Cost ($)</th>\n",
       "    </tr>\n",
       "  </thead>\n",
       "  <tbody>\n",
       "    <tr>\n",
       "      <th>0</th>\n",
       "      <td>https://www.zillow.com/homedetails/111-S-Lake-...</td>\n",
       "      <td>Contra Costa</td>\n",
       "      <td>111 S Lake Dr</td>\n",
       "      <td>94509</td>\n",
       "      <td>3</td>\n",
       "      <td>2</td>\n",
       "      <td>1676</td>\n",
       "      <td>7 hours</td>\n",
       "      <td>75</td>\n",
       "      <td>1</td>\n",
       "      <td>570000</td>\n",
       "      <td>502900</td>\n",
       "      <td>2882</td>\n",
       "    </tr>\n",
       "    <tr>\n",
       "      <th>1</th>\n",
       "      <td>https://www.zillow.com/homedetails/810-W-6th-S...</td>\n",
       "      <td>Contra Costa</td>\n",
       "      <td>810 W 6th St</td>\n",
       "      <td>94509</td>\n",
       "      <td>2</td>\n",
       "      <td>1</td>\n",
       "      <td>862</td>\n",
       "      <td>7 hours</td>\n",
       "      <td>30</td>\n",
       "      <td>0</td>\n",
       "      <td>465000</td>\n",
       "      <td>405700</td>\n",
       "      <td>2100</td>\n",
       "    </tr>\n",
       "    <tr>\n",
       "      <th>2</th>\n",
       "      <td>https://www.zillow.com/homedetails/1021-Mornin...</td>\n",
       "      <td>Contra Costa</td>\n",
       "      <td>1021 Morning Glory Way</td>\n",
       "      <td>94561</td>\n",
       "      <td>3</td>\n",
       "      <td>3</td>\n",
       "      <td>2161</td>\n",
       "      <td>9 hours</td>\n",
       "      <td>112</td>\n",
       "      <td>8</td>\n",
       "      <td>700000</td>\n",
       "      <td>743700</td>\n",
       "      <td>3170</td>\n",
       "    </tr>\n",
       "    <tr>\n",
       "      <th>3</th>\n",
       "      <td>https://www.zillow.com/homedetails/4003-Cresce...</td>\n",
       "      <td>Contra Costa</td>\n",
       "      <td>4003 Crescent Ct</td>\n",
       "      <td>94509</td>\n",
       "      <td>5</td>\n",
       "      <td>3</td>\n",
       "      <td>2333</td>\n",
       "      <td>10 hours</td>\n",
       "      <td>98</td>\n",
       "      <td>6</td>\n",
       "      <td>799000</td>\n",
       "      <td>753200</td>\n",
       "      <td>3162</td>\n",
       "    </tr>\n",
       "    <tr>\n",
       "      <th>4</th>\n",
       "      <td>https://www.zillow.com/homedetails/3625-Mounta...</td>\n",
       "      <td>Contra Costa</td>\n",
       "      <td>3625 Mountaire Dr</td>\n",
       "      <td>94509</td>\n",
       "      <td>3</td>\n",
       "      <td>2</td>\n",
       "      <td>1878</td>\n",
       "      <td>13 hours</td>\n",
       "      <td>227</td>\n",
       "      <td>11</td>\n",
       "      <td>625000</td>\n",
       "      <td>619800</td>\n",
       "      <td>2900</td>\n",
       "    </tr>\n",
       "  </tbody>\n",
       "</table>\n",
       "</div>"
      ],
      "text/plain": [
       "                                                 URL        County  \\\n",
       "0  https://www.zillow.com/homedetails/111-S-Lake-...  Contra Costa   \n",
       "1  https://www.zillow.com/homedetails/810-W-6th-S...  Contra Costa   \n",
       "2  https://www.zillow.com/homedetails/1021-Mornin...  Contra Costa   \n",
       "3  https://www.zillow.com/homedetails/4003-Cresce...  Contra Costa   \n",
       "4  https://www.zillow.com/homedetails/3625-Mounta...  Contra Costa   \n",
       "\n",
       "                  Address Zip Code  Bedrooms  Bathrooms  Area (sqft)  \\\n",
       "0           111 S Lake Dr    94509         3          2         1676   \n",
       "1            810 W 6th St    94509         2          1          862   \n",
       "2  1021 Morning Glory Way    94561         3          3         2161   \n",
       "3        4003 Crescent Ct    94509         5          3         2333   \n",
       "4       3625 Mountaire Dr    94509         3          2         1878   \n",
       "\n",
       "  Time on Zillow  Views  Saves  Price ($)  Zestimate Price ($)  \\\n",
       "0        7 hours     75      1     570000               502900   \n",
       "1        7 hours     30      0     465000               405700   \n",
       "2        9 hours    112      8     700000               743700   \n",
       "3       10 hours     98      6     799000               753200   \n",
       "4       13 hours    227     11     625000               619800   \n",
       "\n",
       "   Estimated Monthly Cost ($)  \n",
       "0                        2882  \n",
       "1                        2100  \n",
       "2                        3170  \n",
       "3                        3162  \n",
       "4                        2900  "
      ]
     },
     "execution_count": 55,
     "metadata": {},
     "output_type": "execute_result"
    }
   ],
   "source": [
    "ans.head()"
   ]
  },
  {
   "cell_type": "markdown",
   "metadata": {},
   "source": [
    "#### Redundant data deletion"
   ]
  },
  {
   "cell_type": "code",
   "execution_count": 248,
   "metadata": {},
   "outputs": [],
   "source": [
    "#ans = pd.read_excel('Zillow Houses Dataset.xlsx')"
   ]
  },
  {
   "cell_type": "code",
   "execution_count": 249,
   "metadata": {},
   "outputs": [
    {
     "data": {
      "text/plain": [
       "72"
      ]
     },
     "execution_count": 249,
     "metadata": {},
     "output_type": "execute_result"
    }
   ],
   "source": [
    "sum(ans['URL'].value_counts() > 1)"
   ]
  },
  {
   "cell_type": "markdown",
   "metadata": {},
   "source": [
    "* `72` properties are duplicated. We will drop them from the dataset"
   ]
  },
  {
   "cell_type": "code",
   "execution_count": 250,
   "metadata": {},
   "outputs": [
    {
     "name": "stdout",
     "output_type": "stream",
     "text": [
      "646\n"
     ]
    }
   ],
   "source": [
    "inital_length = len(ans)\n",
    "print(inital_length)"
   ]
  },
  {
   "cell_type": "code",
   "execution_count": 251,
   "metadata": {},
   "outputs": [],
   "source": [
    "ans = ans.drop_duplicates()"
   ]
  },
  {
   "cell_type": "code",
   "execution_count": 252,
   "metadata": {},
   "outputs": [
    {
     "data": {
      "text/plain": [
       "610"
      ]
     },
     "execution_count": 252,
     "metadata": {},
     "output_type": "execute_result"
    }
   ],
   "source": [
    "final_length = len(ans)\n",
    "final_length"
   ]
  },
  {
   "cell_type": "code",
   "execution_count": 253,
   "metadata": {},
   "outputs": [
    {
     "name": "stdout",
     "output_type": "stream",
     "text": [
      "No of duplicate rows in the dataset :  36\n"
     ]
    }
   ],
   "source": [
    "print('No of duplicate rows in the dataset : ',inital_length-final_length)  "
   ]
  },
  {
   "cell_type": "code",
   "execution_count": 254,
   "metadata": {},
   "outputs": [
    {
     "data": {
      "text/html": [
       "<div>\n",
       "<style scoped>\n",
       "    .dataframe tbody tr th:only-of-type {\n",
       "        vertical-align: middle;\n",
       "    }\n",
       "\n",
       "    .dataframe tbody tr th {\n",
       "        vertical-align: top;\n",
       "    }\n",
       "\n",
       "    .dataframe thead th {\n",
       "        text-align: right;\n",
       "    }\n",
       "</style>\n",
       "<table border=\"1\" class=\"dataframe\">\n",
       "  <thead>\n",
       "    <tr style=\"text-align: right;\">\n",
       "      <th></th>\n",
       "      <th>URL</th>\n",
       "      <th>County</th>\n",
       "      <th>Address</th>\n",
       "      <th>Zip Code</th>\n",
       "      <th>Bedrooms</th>\n",
       "      <th>Bathrooms</th>\n",
       "      <th>Area (sqft)</th>\n",
       "      <th>Time on Zillow</th>\n",
       "      <th>Views</th>\n",
       "      <th>Saves</th>\n",
       "      <th>Price ($)</th>\n",
       "      <th>Zestimate Price ($)</th>\n",
       "      <th>Estimated Monthly Cost ($)</th>\n",
       "    </tr>\n",
       "  </thead>\n",
       "  <tbody>\n",
       "    <tr>\n",
       "      <th>0</th>\n",
       "      <td>https://www.zillow.com/homedetails/111-S-Lake-...</td>\n",
       "      <td>Contra Costa</td>\n",
       "      <td>111 S Lake Dr</td>\n",
       "      <td>94509</td>\n",
       "      <td>3</td>\n",
       "      <td>2</td>\n",
       "      <td>1676</td>\n",
       "      <td>7 hours</td>\n",
       "      <td>75</td>\n",
       "      <td>1</td>\n",
       "      <td>570000</td>\n",
       "      <td>502900</td>\n",
       "      <td>2882</td>\n",
       "    </tr>\n",
       "    <tr>\n",
       "      <th>1</th>\n",
       "      <td>https://www.zillow.com/homedetails/810-W-6th-S...</td>\n",
       "      <td>Contra Costa</td>\n",
       "      <td>810 W 6th St</td>\n",
       "      <td>94509</td>\n",
       "      <td>2</td>\n",
       "      <td>1</td>\n",
       "      <td>862</td>\n",
       "      <td>7 hours</td>\n",
       "      <td>30</td>\n",
       "      <td>0</td>\n",
       "      <td>465000</td>\n",
       "      <td>405700</td>\n",
       "      <td>2100</td>\n",
       "    </tr>\n",
       "    <tr>\n",
       "      <th>2</th>\n",
       "      <td>https://www.zillow.com/homedetails/1021-Mornin...</td>\n",
       "      <td>Contra Costa</td>\n",
       "      <td>1021 Morning Glory Way</td>\n",
       "      <td>94561</td>\n",
       "      <td>3</td>\n",
       "      <td>3</td>\n",
       "      <td>2161</td>\n",
       "      <td>9 hours</td>\n",
       "      <td>112</td>\n",
       "      <td>8</td>\n",
       "      <td>700000</td>\n",
       "      <td>743700</td>\n",
       "      <td>3170</td>\n",
       "    </tr>\n",
       "    <tr>\n",
       "      <th>3</th>\n",
       "      <td>https://www.zillow.com/homedetails/4003-Cresce...</td>\n",
       "      <td>Contra Costa</td>\n",
       "      <td>4003 Crescent Ct</td>\n",
       "      <td>94509</td>\n",
       "      <td>5</td>\n",
       "      <td>3</td>\n",
       "      <td>2333</td>\n",
       "      <td>10 hours</td>\n",
       "      <td>98</td>\n",
       "      <td>6</td>\n",
       "      <td>799000</td>\n",
       "      <td>753200</td>\n",
       "      <td>3162</td>\n",
       "    </tr>\n",
       "    <tr>\n",
       "      <th>4</th>\n",
       "      <td>https://www.zillow.com/homedetails/3625-Mounta...</td>\n",
       "      <td>Contra Costa</td>\n",
       "      <td>3625 Mountaire Dr</td>\n",
       "      <td>94509</td>\n",
       "      <td>3</td>\n",
       "      <td>2</td>\n",
       "      <td>1878</td>\n",
       "      <td>13 hours</td>\n",
       "      <td>227</td>\n",
       "      <td>11</td>\n",
       "      <td>625000</td>\n",
       "      <td>619800</td>\n",
       "      <td>2900</td>\n",
       "    </tr>\n",
       "  </tbody>\n",
       "</table>\n",
       "</div>"
      ],
      "text/plain": [
       "                                                 URL        County  \\\n",
       "0  https://www.zillow.com/homedetails/111-S-Lake-...  Contra Costa   \n",
       "1  https://www.zillow.com/homedetails/810-W-6th-S...  Contra Costa   \n",
       "2  https://www.zillow.com/homedetails/1021-Mornin...  Contra Costa   \n",
       "3  https://www.zillow.com/homedetails/4003-Cresce...  Contra Costa   \n",
       "4  https://www.zillow.com/homedetails/3625-Mounta...  Contra Costa   \n",
       "\n",
       "                  Address Zip Code  Bedrooms  Bathrooms  Area (sqft)  \\\n",
       "0           111 S Lake Dr    94509         3          2         1676   \n",
       "1            810 W 6th St    94509         2          1          862   \n",
       "2  1021 Morning Glory Way    94561         3          3         2161   \n",
       "3        4003 Crescent Ct    94509         5          3         2333   \n",
       "4       3625 Mountaire Dr    94509         3          2         1878   \n",
       "\n",
       "  Time on Zillow  Views  Saves  Price ($)  Zestimate Price ($)  \\\n",
       "0        7 hours     75      1     570000               502900   \n",
       "1        7 hours     30      0     465000               405700   \n",
       "2        9 hours    112      8     700000               743700   \n",
       "3       10 hours     98      6     799000               753200   \n",
       "4       13 hours    227     11     625000               619800   \n",
       "\n",
       "   Estimated Monthly Cost ($)  \n",
       "0                        2882  \n",
       "1                        2100  \n",
       "2                        3170  \n",
       "3                        3162  \n",
       "4                        2900  "
      ]
     },
     "execution_count": 254,
     "metadata": {},
     "output_type": "execute_result"
    }
   ],
   "source": [
    "ans.head()"
   ]
  },
  {
   "cell_type": "markdown",
   "metadata": {},
   "source": [
    "#### Incorrect data handling"
   ]
  },
  {
   "cell_type": "code",
   "execution_count": 255,
   "metadata": {},
   "outputs": [
    {
     "data": {
      "text/plain": [
       "62"
      ]
     },
     "execution_count": 255,
     "metadata": {},
     "output_type": "execute_result"
    }
   ],
   "source": [
    "sum(~ans['Zip Code'].str.isnumeric())"
   ]
  },
  {
   "cell_type": "code",
   "execution_count": 256,
   "metadata": {},
   "outputs": [
    {
     "name": "stdout",
     "output_type": "stream",
     "text": [
      "62  records contain incorrect zipcode while scarping\n"
     ]
    }
   ],
   "source": [
    "print(sum(~ans['Zip Code'].str.isnumeric()), ' records contain incorrect zipcode while scarping')"
   ]
  },
  {
   "cell_type": "code",
   "execution_count": 257,
   "metadata": {},
   "outputs": [
    {
     "data": {
      "text/plain": [
       "9     Homes-Family\n",
       "21    Homes-Family\n",
       "22        Morrison\n",
       "23          Lennar\n",
       "27           Homes\n",
       "Name: Zip Code, dtype: object"
      ]
     },
     "execution_count": 257,
     "metadata": {},
     "output_type": "execute_result"
    }
   ],
   "source": [
    "ans['Zip Code'][~ans['Zip Code'].str.isnumeric()].head()"
   ]
  },
  {
   "cell_type": "code",
   "execution_count": 258,
   "metadata": {},
   "outputs": [],
   "source": [
    "ans.loc[~ans['Zip Code'].str.isnumeric(), \"Zip Code\"] = 'NA'"
   ]
  },
  {
   "cell_type": "code",
   "execution_count": 259,
   "metadata": {},
   "outputs": [
    {
     "data": {
      "text/plain": [
       "9     NA\n",
       "21    NA\n",
       "22    NA\n",
       "23    NA\n",
       "27    NA\n",
       "Name: Zip Code, dtype: object"
      ]
     },
     "execution_count": 259,
     "metadata": {},
     "output_type": "execute_result"
    }
   ],
   "source": [
    "ans[~ans['Zip Code'].str.isnumeric()]['Zip Code'].head()"
   ]
  },
  {
   "cell_type": "code",
   "execution_count": 260,
   "metadata": {},
   "outputs": [
    {
     "data": {
      "text/html": [
       "<div>\n",
       "<style scoped>\n",
       "    .dataframe tbody tr th:only-of-type {\n",
       "        vertical-align: middle;\n",
       "    }\n",
       "\n",
       "    .dataframe tbody tr th {\n",
       "        vertical-align: top;\n",
       "    }\n",
       "\n",
       "    .dataframe thead th {\n",
       "        text-align: right;\n",
       "    }\n",
       "</style>\n",
       "<table border=\"1\" class=\"dataframe\">\n",
       "  <thead>\n",
       "    <tr style=\"text-align: right;\">\n",
       "      <th></th>\n",
       "      <th>URL</th>\n",
       "      <th>County</th>\n",
       "      <th>Address</th>\n",
       "      <th>Zip Code</th>\n",
       "      <th>Bedrooms</th>\n",
       "      <th>Bathrooms</th>\n",
       "      <th>Area (sqft)</th>\n",
       "      <th>Time on Zillow</th>\n",
       "      <th>Views</th>\n",
       "      <th>Saves</th>\n",
       "      <th>Price ($)</th>\n",
       "      <th>Zestimate Price ($)</th>\n",
       "      <th>Estimated Monthly Cost ($)</th>\n",
       "    </tr>\n",
       "  </thead>\n",
       "  <tbody>\n",
       "    <tr>\n",
       "      <th>0</th>\n",
       "      <td>https://www.zillow.com/homedetails/111-S-Lake-...</td>\n",
       "      <td>Contra Costa</td>\n",
       "      <td>111 S Lake Dr</td>\n",
       "      <td>94509</td>\n",
       "      <td>3</td>\n",
       "      <td>2</td>\n",
       "      <td>1676</td>\n",
       "      <td>7 hours</td>\n",
       "      <td>75</td>\n",
       "      <td>1</td>\n",
       "      <td>570000</td>\n",
       "      <td>502900</td>\n",
       "      <td>2882</td>\n",
       "    </tr>\n",
       "    <tr>\n",
       "      <th>1</th>\n",
       "      <td>https://www.zillow.com/homedetails/810-W-6th-S...</td>\n",
       "      <td>Contra Costa</td>\n",
       "      <td>810 W 6th St</td>\n",
       "      <td>94509</td>\n",
       "      <td>2</td>\n",
       "      <td>1</td>\n",
       "      <td>862</td>\n",
       "      <td>7 hours</td>\n",
       "      <td>30</td>\n",
       "      <td>0</td>\n",
       "      <td>465000</td>\n",
       "      <td>405700</td>\n",
       "      <td>2100</td>\n",
       "    </tr>\n",
       "    <tr>\n",
       "      <th>2</th>\n",
       "      <td>https://www.zillow.com/homedetails/1021-Mornin...</td>\n",
       "      <td>Contra Costa</td>\n",
       "      <td>1021 Morning Glory Way</td>\n",
       "      <td>94561</td>\n",
       "      <td>3</td>\n",
       "      <td>3</td>\n",
       "      <td>2161</td>\n",
       "      <td>9 hours</td>\n",
       "      <td>112</td>\n",
       "      <td>8</td>\n",
       "      <td>700000</td>\n",
       "      <td>743700</td>\n",
       "      <td>3170</td>\n",
       "    </tr>\n",
       "    <tr>\n",
       "      <th>3</th>\n",
       "      <td>https://www.zillow.com/homedetails/4003-Cresce...</td>\n",
       "      <td>Contra Costa</td>\n",
       "      <td>4003 Crescent Ct</td>\n",
       "      <td>94509</td>\n",
       "      <td>5</td>\n",
       "      <td>3</td>\n",
       "      <td>2333</td>\n",
       "      <td>10 hours</td>\n",
       "      <td>98</td>\n",
       "      <td>6</td>\n",
       "      <td>799000</td>\n",
       "      <td>753200</td>\n",
       "      <td>3162</td>\n",
       "    </tr>\n",
       "    <tr>\n",
       "      <th>4</th>\n",
       "      <td>https://www.zillow.com/homedetails/3625-Mounta...</td>\n",
       "      <td>Contra Costa</td>\n",
       "      <td>3625 Mountaire Dr</td>\n",
       "      <td>94509</td>\n",
       "      <td>3</td>\n",
       "      <td>2</td>\n",
       "      <td>1878</td>\n",
       "      <td>13 hours</td>\n",
       "      <td>227</td>\n",
       "      <td>11</td>\n",
       "      <td>625000</td>\n",
       "      <td>619800</td>\n",
       "      <td>2900</td>\n",
       "    </tr>\n",
       "  </tbody>\n",
       "</table>\n",
       "</div>"
      ],
      "text/plain": [
       "                                                 URL        County  \\\n",
       "0  https://www.zillow.com/homedetails/111-S-Lake-...  Contra Costa   \n",
       "1  https://www.zillow.com/homedetails/810-W-6th-S...  Contra Costa   \n",
       "2  https://www.zillow.com/homedetails/1021-Mornin...  Contra Costa   \n",
       "3  https://www.zillow.com/homedetails/4003-Cresce...  Contra Costa   \n",
       "4  https://www.zillow.com/homedetails/3625-Mounta...  Contra Costa   \n",
       "\n",
       "                  Address Zip Code  Bedrooms  Bathrooms  Area (sqft)  \\\n",
       "0           111 S Lake Dr    94509         3          2         1676   \n",
       "1            810 W 6th St    94509         2          1          862   \n",
       "2  1021 Morning Glory Way    94561         3          3         2161   \n",
       "3        4003 Crescent Ct    94509         5          3         2333   \n",
       "4       3625 Mountaire Dr    94509         3          2         1878   \n",
       "\n",
       "  Time on Zillow  Views  Saves  Price ($)  Zestimate Price ($)  \\\n",
       "0        7 hours     75      1     570000               502900   \n",
       "1        7 hours     30      0     465000               405700   \n",
       "2        9 hours    112      8     700000               743700   \n",
       "3       10 hours     98      6     799000               753200   \n",
       "4       13 hours    227     11     625000               619800   \n",
       "\n",
       "   Estimated Monthly Cost ($)  \n",
       "0                        2882  \n",
       "1                        2100  \n",
       "2                        3170  \n",
       "3                        3162  \n",
       "4                        2900  "
      ]
     },
     "execution_count": 260,
     "metadata": {},
     "output_type": "execute_result"
    }
   ],
   "source": [
    "ans.head()"
   ]
  },
  {
   "cell_type": "markdown",
   "metadata": {},
   "source": [
    "#### Handling Data type constraints"
   ]
  },
  {
   "cell_type": "code",
   "execution_count": 261,
   "metadata": {},
   "outputs": [],
   "source": [
    "def zillow_time_conversion(x):\n",
    "    \n",
    "    if x == '0' :\n",
    "        return 0\n",
    "    \n",
    "    value = int(x.split()[0])\n",
    "    unit = x.split()[1]\n",
    "    \n",
    "    if 'day' in unit:\n",
    "        return value * 24\n",
    "    \n",
    "    elif 'hour' in unit :\n",
    "        return value\n",
    "    \n",
    "    else :\n",
    "        return 0"
   ]
  },
  {
   "cell_type": "code",
   "execution_count": 262,
   "metadata": {},
   "outputs": [],
   "source": [
    "ans['Time on Zillow'] = ans['Time on Zillow'].apply(lambda x :zillow_time_conversion(x))"
   ]
  },
  {
   "cell_type": "code",
   "execution_count": 263,
   "metadata": {},
   "outputs": [
    {
     "data": {
      "text/html": [
       "<div>\n",
       "<style scoped>\n",
       "    .dataframe tbody tr th:only-of-type {\n",
       "        vertical-align: middle;\n",
       "    }\n",
       "\n",
       "    .dataframe tbody tr th {\n",
       "        vertical-align: top;\n",
       "    }\n",
       "\n",
       "    .dataframe thead th {\n",
       "        text-align: right;\n",
       "    }\n",
       "</style>\n",
       "<table border=\"1\" class=\"dataframe\">\n",
       "  <thead>\n",
       "    <tr style=\"text-align: right;\">\n",
       "      <th></th>\n",
       "      <th>URL</th>\n",
       "      <th>County</th>\n",
       "      <th>Address</th>\n",
       "      <th>Zip Code</th>\n",
       "      <th>Bedrooms</th>\n",
       "      <th>Bathrooms</th>\n",
       "      <th>Area (sqft)</th>\n",
       "      <th>Time on Zillow</th>\n",
       "      <th>Views</th>\n",
       "      <th>Saves</th>\n",
       "      <th>Price ($)</th>\n",
       "      <th>Zestimate Price ($)</th>\n",
       "      <th>Estimated Monthly Cost ($)</th>\n",
       "    </tr>\n",
       "  </thead>\n",
       "  <tbody>\n",
       "    <tr>\n",
       "      <th>0</th>\n",
       "      <td>https://www.zillow.com/homedetails/111-S-Lake-...</td>\n",
       "      <td>Contra Costa</td>\n",
       "      <td>111 S Lake Dr</td>\n",
       "      <td>94509</td>\n",
       "      <td>3</td>\n",
       "      <td>2</td>\n",
       "      <td>1676</td>\n",
       "      <td>7</td>\n",
       "      <td>75</td>\n",
       "      <td>1</td>\n",
       "      <td>570000</td>\n",
       "      <td>502900</td>\n",
       "      <td>2882</td>\n",
       "    </tr>\n",
       "    <tr>\n",
       "      <th>1</th>\n",
       "      <td>https://www.zillow.com/homedetails/810-W-6th-S...</td>\n",
       "      <td>Contra Costa</td>\n",
       "      <td>810 W 6th St</td>\n",
       "      <td>94509</td>\n",
       "      <td>2</td>\n",
       "      <td>1</td>\n",
       "      <td>862</td>\n",
       "      <td>7</td>\n",
       "      <td>30</td>\n",
       "      <td>0</td>\n",
       "      <td>465000</td>\n",
       "      <td>405700</td>\n",
       "      <td>2100</td>\n",
       "    </tr>\n",
       "    <tr>\n",
       "      <th>2</th>\n",
       "      <td>https://www.zillow.com/homedetails/1021-Mornin...</td>\n",
       "      <td>Contra Costa</td>\n",
       "      <td>1021 Morning Glory Way</td>\n",
       "      <td>94561</td>\n",
       "      <td>3</td>\n",
       "      <td>3</td>\n",
       "      <td>2161</td>\n",
       "      <td>9</td>\n",
       "      <td>112</td>\n",
       "      <td>8</td>\n",
       "      <td>700000</td>\n",
       "      <td>743700</td>\n",
       "      <td>3170</td>\n",
       "    </tr>\n",
       "    <tr>\n",
       "      <th>3</th>\n",
       "      <td>https://www.zillow.com/homedetails/4003-Cresce...</td>\n",
       "      <td>Contra Costa</td>\n",
       "      <td>4003 Crescent Ct</td>\n",
       "      <td>94509</td>\n",
       "      <td>5</td>\n",
       "      <td>3</td>\n",
       "      <td>2333</td>\n",
       "      <td>10</td>\n",
       "      <td>98</td>\n",
       "      <td>6</td>\n",
       "      <td>799000</td>\n",
       "      <td>753200</td>\n",
       "      <td>3162</td>\n",
       "    </tr>\n",
       "    <tr>\n",
       "      <th>4</th>\n",
       "      <td>https://www.zillow.com/homedetails/3625-Mounta...</td>\n",
       "      <td>Contra Costa</td>\n",
       "      <td>3625 Mountaire Dr</td>\n",
       "      <td>94509</td>\n",
       "      <td>3</td>\n",
       "      <td>2</td>\n",
       "      <td>1878</td>\n",
       "      <td>13</td>\n",
       "      <td>227</td>\n",
       "      <td>11</td>\n",
       "      <td>625000</td>\n",
       "      <td>619800</td>\n",
       "      <td>2900</td>\n",
       "    </tr>\n",
       "  </tbody>\n",
       "</table>\n",
       "</div>"
      ],
      "text/plain": [
       "                                                 URL        County  \\\n",
       "0  https://www.zillow.com/homedetails/111-S-Lake-...  Contra Costa   \n",
       "1  https://www.zillow.com/homedetails/810-W-6th-S...  Contra Costa   \n",
       "2  https://www.zillow.com/homedetails/1021-Mornin...  Contra Costa   \n",
       "3  https://www.zillow.com/homedetails/4003-Cresce...  Contra Costa   \n",
       "4  https://www.zillow.com/homedetails/3625-Mounta...  Contra Costa   \n",
       "\n",
       "                  Address Zip Code  Bedrooms  Bathrooms  Area (sqft)  \\\n",
       "0           111 S Lake Dr    94509         3          2         1676   \n",
       "1            810 W 6th St    94509         2          1          862   \n",
       "2  1021 Morning Glory Way    94561         3          3         2161   \n",
       "3        4003 Crescent Ct    94509         5          3         2333   \n",
       "4       3625 Mountaire Dr    94509         3          2         1878   \n",
       "\n",
       "   Time on Zillow  Views  Saves  Price ($)  Zestimate Price ($)  \\\n",
       "0               7     75      1     570000               502900   \n",
       "1               7     30      0     465000               405700   \n",
       "2               9    112      8     700000               743700   \n",
       "3              10     98      6     799000               753200   \n",
       "4              13    227     11     625000               619800   \n",
       "\n",
       "   Estimated Monthly Cost ($)  \n",
       "0                        2882  \n",
       "1                        2100  \n",
       "2                        3170  \n",
       "3                        3162  \n",
       "4                        2900  "
      ]
     },
     "execution_count": 263,
     "metadata": {},
     "output_type": "execute_result"
    }
   ],
   "source": [
    "ans.head()"
   ]
  },
  {
   "cell_type": "code",
   "execution_count": 264,
   "metadata": {},
   "outputs": [],
   "source": [
    "# renaming the zilllow time column name\n",
    "\n",
    "\n",
    "ans.rename(columns={'Time on Zillow': 'Time on Zillow (hrs)'},\n",
    "          inplace=True, errors='raise')"
   ]
  },
  {
   "cell_type": "code",
   "execution_count": 265,
   "metadata": {},
   "outputs": [
    {
     "data": {
      "text/plain": [
       "Index(['URL', 'County', 'Address', 'Zip Code', 'Bedrooms', 'Bathrooms',\n",
       "       'Area (sqft)', 'Time on Zillow (hrs)', 'Views', 'Saves', 'Price ($)',\n",
       "       'Zestimate Price ($)', 'Estimated Monthly Cost ($)'],\n",
       "      dtype='object')"
      ]
     },
     "execution_count": 265,
     "metadata": {},
     "output_type": "execute_result"
    }
   ],
   "source": [
    "ans.columns"
   ]
  },
  {
   "cell_type": "markdown",
   "metadata": {},
   "source": [
    "#### Missing values treatment"
   ]
  },
  {
   "cell_type": "code",
   "execution_count": 266,
   "metadata": {},
   "outputs": [
    {
     "name": "stdout",
     "output_type": "stream",
     "text": [
      "10.163934426229508 % of data does not contain Zip code in the address\n"
     ]
    }
   ],
   "source": [
    "print(len([x[33:] for x in ans.loc[ans['Zip Code'] == 'NA','URL']])/len(ans) *100, '% of data does not contain Zip code in the address')"
   ]
  },
  {
   "cell_type": "markdown",
   "metadata": {},
   "source": [
    "* This wont cause any issue in my research question set analysis (Zip code is a categorical value) "
   ]
  },
  {
   "cell_type": "code",
   "execution_count": 267,
   "metadata": {},
   "outputs": [],
   "source": [
    "no_prop_stats = sum(np.array(ans['Bedrooms']==0) & np.array(ans['Bathrooms']==0) & np.array(ans['Area (sqft)']==0))"
   ]
  },
  {
   "cell_type": "code",
   "execution_count": 268,
   "metadata": {},
   "outputs": [
    {
     "name": "stdout",
     "output_type": "stream",
     "text": [
      "78 of properties doent not contain any of the Bedrooms, Bathroom or Area.\n"
     ]
    }
   ],
   "source": [
    "print(no_prop_stats, 'of properties doent not contain any of the Bedrooms, Bathroom or Area.')"
   ]
  },
  {
   "cell_type": "code",
   "execution_count": 269,
   "metadata": {},
   "outputs": [
    {
     "data": {
      "text/plain": [
       "12.786885245901638"
      ]
     },
     "execution_count": 269,
     "metadata": {},
     "output_type": "execute_result"
    }
   ],
   "source": [
    "no_prop_stats/len(ans) * 100"
   ]
  },
  {
   "cell_type": "markdown",
   "metadata": {},
   "source": [
    "* 12.78% of missing data. Dropping them."
   ]
  },
  {
   "cell_type": "code",
   "execution_count": 270,
   "metadata": {},
   "outputs": [],
   "source": [
    "# Dropping the properties which have either bedrooms or bathrooms missing data\n",
    "\n",
    "ans = ans[(ans['Bathrooms'] > 0) & (ans['Bedrooms'] > 0)]"
   ]
  },
  {
   "cell_type": "code",
   "execution_count": 271,
   "metadata": {},
   "outputs": [
    {
     "data": {
      "text/plain": [
       "500"
      ]
     },
     "execution_count": 271,
     "metadata": {},
     "output_type": "execute_result"
    }
   ],
   "source": [
    "len(ans)"
   ]
  },
  {
   "cell_type": "code",
   "execution_count": 272,
   "metadata": {},
   "outputs": [],
   "source": [
    "# replacing 0 with np.NaN for imputing\n",
    "\n",
    "ans['Area (sqft)'][(ans['Area (sqft)']==0)] = np.NaN"
   ]
  },
  {
   "cell_type": "code",
   "execution_count": 273,
   "metadata": {},
   "outputs": [],
   "source": [
    "# KNN imputation for missing \"Area\" based on \"Bedrooms\" and \"Bathrooms\"\n",
    "\n",
    "from sklearn.impute import KNNImputer\n",
    "imputer = KNNImputer(n_neighbors=5)\n",
    "df = pd.DataFrame(imputer.fit_transform(ans[['Bedrooms','Bathrooms','Area (sqft)']]))"
   ]
  },
  {
   "cell_type": "code",
   "execution_count": 274,
   "metadata": {},
   "outputs": [],
   "source": [
    "ans.reset_index(inplace=True)"
   ]
  },
  {
   "cell_type": "code",
   "execution_count": 275,
   "metadata": {},
   "outputs": [],
   "source": [
    "ans[['Bedrooms','Bathrooms','Area (sqft)']] = df"
   ]
  },
  {
   "cell_type": "code",
   "execution_count": 276,
   "metadata": {},
   "outputs": [
    {
     "data": {
      "text/plain": [
       "0"
      ]
     },
     "execution_count": 276,
     "metadata": {},
     "output_type": "execute_result"
    }
   ],
   "source": [
    "sum(ans['Area (sqft)'] <= 0) "
   ]
  },
  {
   "cell_type": "markdown",
   "metadata": {},
   "source": [
    "* Missing values for all the attributes related to the prices such as `Price($)`, `Zestimate Price($)` and `Estimated Monthly Cost($)`  will be handled by making model in the Second Part of the assignment."
   ]
  },
  {
   "cell_type": "markdown",
   "metadata": {},
   "source": [
    "#### Outerliers treatmnet"
   ]
  },
  {
   "cell_type": "code",
   "execution_count": 277,
   "metadata": {},
   "outputs": [
    {
     "data": {
      "text/plain": [
       "<AxesSubplot:>"
      ]
     },
     "execution_count": 277,
     "metadata": {},
     "output_type": "execute_result"
    },
    {
     "data": {
      "image/png": "[encoded data removed]",
      "text/plain": [
       "<Figure size 432x288 with 1 Axes>"
      ]
     },
     "metadata": {
      "needs_background": "light"
     },
     "output_type": "display_data"
    }
   ],
   "source": [
    "# Box Plot\n",
    "\n",
    "import seaborn as sns\n",
    "sns.boxplot(data=ans['Bathrooms'])"
   ]
  },
  {
   "cell_type": "code",
   "execution_count": 278,
   "metadata": {},
   "outputs": [
    {
     "data": {
      "text/plain": [
       "19"
      ]
     },
     "execution_count": 278,
     "metadata": {},
     "output_type": "execute_result"
    }
   ],
   "source": [
    "sum(ans['Bathrooms'] >=5) # properties having more than 5 bathrooms are outliers"
   ]
  },
  {
   "cell_type": "markdown",
   "metadata": {},
   "source": [
    "- 19 properties have more than 5 bathrooms"
   ]
  },
  {
   "cell_type": "code",
   "execution_count": 279,
   "metadata": {},
   "outputs": [
    {
     "data": {
      "text/plain": [
       "<AxesSubplot:>"
      ]
     },
     "execution_count": 279,
     "metadata": {},
     "output_type": "execute_result"
    },
    {
     "data": {
      "image/png": "[encoded data removed]",
      "text/plain": [
       "<Figure size 432x288 with 1 Axes>"
      ]
     },
     "metadata": {
      "needs_background": "light"
     },
     "output_type": "display_data"
    }
   ],
   "source": [
    "sns.boxplot(data=ans['Bedrooms'])"
   ]
  },
  {
   "cell_type": "code",
   "execution_count": 280,
   "metadata": {},
   "outputs": [
    {
     "data": {
      "text/plain": [
       "4"
      ]
     },
     "execution_count": 280,
     "metadata": {},
     "output_type": "execute_result"
    }
   ],
   "source": [
    "sum(ans['Bedrooms'] >= 8 ) # Properties with more than 8 bedrooms are considered as outliers"
   ]
  },
  {
   "cell_type": "markdown",
   "metadata": {},
   "source": [
    "- 4 properties have more than 8 bedrooms "
   ]
  },
  {
   "cell_type": "code",
   "execution_count": 281,
   "metadata": {},
   "outputs": [],
   "source": [
    "ans = ans[(ans['Bathrooms'] < 5) & (ans['Bedrooms'] < 8)]"
   ]
  },
  {
   "cell_type": "code",
   "execution_count": 282,
   "metadata": {},
   "outputs": [
    {
     "data": {
      "text/plain": [
       "479"
      ]
     },
     "execution_count": 282,
     "metadata": {},
     "output_type": "execute_result"
    }
   ],
   "source": [
    "len(ans)"
   ]
  },
  {
   "cell_type": "code",
   "execution_count": 283,
   "metadata": {},
   "outputs": [
    {
     "data": {
      "text/html": [
       "<div>\n",
       "<style scoped>\n",
       "    .dataframe tbody tr th:only-of-type {\n",
       "        vertical-align: middle;\n",
       "    }\n",
       "\n",
       "    .dataframe tbody tr th {\n",
       "        vertical-align: top;\n",
       "    }\n",
       "\n",
       "    .dataframe thead th {\n",
       "        text-align: right;\n",
       "    }\n",
       "</style>\n",
       "<table border=\"1\" class=\"dataframe\">\n",
       "  <thead>\n",
       "    <tr style=\"text-align: right;\">\n",
       "      <th></th>\n",
       "      <th>index</th>\n",
       "      <th>URL</th>\n",
       "      <th>County</th>\n",
       "      <th>Address</th>\n",
       "      <th>Zip Code</th>\n",
       "      <th>Bedrooms</th>\n",
       "      <th>Bathrooms</th>\n",
       "      <th>Area (sqft)</th>\n",
       "      <th>Time on Zillow (hrs)</th>\n",
       "      <th>Views</th>\n",
       "      <th>Saves</th>\n",
       "      <th>Price ($)</th>\n",
       "      <th>Zestimate Price ($)</th>\n",
       "      <th>Estimated Monthly Cost ($)</th>\n",
       "    </tr>\n",
       "  </thead>\n",
       "  <tbody>\n",
       "    <tr>\n",
       "      <th>0</th>\n",
       "      <td>0</td>\n",
       "      <td>https://www.zillow.com/homedetails/111-S-Lake-...</td>\n",
       "      <td>Contra Costa</td>\n",
       "      <td>111 S Lake Dr</td>\n",
       "      <td>94509</td>\n",
       "      <td>3.0</td>\n",
       "      <td>2.0</td>\n",
       "      <td>1676.0</td>\n",
       "      <td>7</td>\n",
       "      <td>75</td>\n",
       "      <td>1</td>\n",
       "      <td>570000</td>\n",
       "      <td>502900</td>\n",
       "      <td>2882</td>\n",
       "    </tr>\n",
       "    <tr>\n",
       "      <th>1</th>\n",
       "      <td>1</td>\n",
       "      <td>https://www.zillow.com/homedetails/810-W-6th-S...</td>\n",
       "      <td>Contra Costa</td>\n",
       "      <td>810 W 6th St</td>\n",
       "      <td>94509</td>\n",
       "      <td>2.0</td>\n",
       "      <td>1.0</td>\n",
       "      <td>862.0</td>\n",
       "      <td>7</td>\n",
       "      <td>30</td>\n",
       "      <td>0</td>\n",
       "      <td>465000</td>\n",
       "      <td>405700</td>\n",
       "      <td>2100</td>\n",
       "    </tr>\n",
       "    <tr>\n",
       "      <th>2</th>\n",
       "      <td>2</td>\n",
       "      <td>https://www.zillow.com/homedetails/1021-Mornin...</td>\n",
       "      <td>Contra Costa</td>\n",
       "      <td>1021 Morning Glory Way</td>\n",
       "      <td>94561</td>\n",
       "      <td>3.0</td>\n",
       "      <td>3.0</td>\n",
       "      <td>2161.0</td>\n",
       "      <td>9</td>\n",
       "      <td>112</td>\n",
       "      <td>8</td>\n",
       "      <td>700000</td>\n",
       "      <td>743700</td>\n",
       "      <td>3170</td>\n",
       "    </tr>\n",
       "    <tr>\n",
       "      <th>3</th>\n",
       "      <td>3</td>\n",
       "      <td>https://www.zillow.com/homedetails/4003-Cresce...</td>\n",
       "      <td>Contra Costa</td>\n",
       "      <td>4003 Crescent Ct</td>\n",
       "      <td>94509</td>\n",
       "      <td>5.0</td>\n",
       "      <td>3.0</td>\n",
       "      <td>2333.0</td>\n",
       "      <td>10</td>\n",
       "      <td>98</td>\n",
       "      <td>6</td>\n",
       "      <td>799000</td>\n",
       "      <td>753200</td>\n",
       "      <td>3162</td>\n",
       "    </tr>\n",
       "    <tr>\n",
       "      <th>4</th>\n",
       "      <td>4</td>\n",
       "      <td>https://www.zillow.com/homedetails/3625-Mounta...</td>\n",
       "      <td>Contra Costa</td>\n",
       "      <td>3625 Mountaire Dr</td>\n",
       "      <td>94509</td>\n",
       "      <td>3.0</td>\n",
       "      <td>2.0</td>\n",
       "      <td>1878.0</td>\n",
       "      <td>13</td>\n",
       "      <td>227</td>\n",
       "      <td>11</td>\n",
       "      <td>625000</td>\n",
       "      <td>619800</td>\n",
       "      <td>2900</td>\n",
       "    </tr>\n",
       "  </tbody>\n",
       "</table>\n",
       "</div>"
      ],
      "text/plain": [
       "   index                                                URL        County  \\\n",
       "0      0  https://www.zillow.com/homedetails/111-S-Lake-...  Contra Costa   \n",
       "1      1  https://www.zillow.com/homedetails/810-W-6th-S...  Contra Costa   \n",
       "2      2  https://www.zillow.com/homedetails/1021-Mornin...  Contra Costa   \n",
       "3      3  https://www.zillow.com/homedetails/4003-Cresce...  Contra Costa   \n",
       "4      4  https://www.zillow.com/homedetails/3625-Mounta...  Contra Costa   \n",
       "\n",
       "                  Address Zip Code  Bedrooms  Bathrooms  Area (sqft)  \\\n",
       "0           111 S Lake Dr    94509       3.0        2.0       1676.0   \n",
       "1            810 W 6th St    94509       2.0        1.0        862.0   \n",
       "2  1021 Morning Glory Way    94561       3.0        3.0       2161.0   \n",
       "3        4003 Crescent Ct    94509       5.0        3.0       2333.0   \n",
       "4       3625 Mountaire Dr    94509       3.0        2.0       1878.0   \n",
       "\n",
       "   Time on Zillow (hrs)  Views  Saves  Price ($)  Zestimate Price ($)  \\\n",
       "0                     7     75      1     570000               502900   \n",
       "1                     7     30      0     465000               405700   \n",
       "2                     9    112      8     700000               743700   \n",
       "3                    10     98      6     799000               753200   \n",
       "4                    13    227     11     625000               619800   \n",
       "\n",
       "   Estimated Monthly Cost ($)  \n",
       "0                        2882  \n",
       "1                        2100  \n",
       "2                        3170  \n",
       "3                        3162  \n",
       "4                        2900  "
      ]
     },
     "execution_count": 283,
     "metadata": {},
     "output_type": "execute_result"
    }
   ],
   "source": [
    "ans.head()"
   ]
  },
  {
   "cell_type": "code",
   "execution_count": 285,
   "metadata": {},
   "outputs": [],
   "source": [
    "ans.to_excel('Final Zillow Houses Dataset.xlsx',index=False)"
   ]
  },
  {
   "cell_type": "code",
   "execution_count": null,
   "metadata": {},
   "outputs": [],
   "source": []
  }
 ],
 "metadata": {
  "kernelspec": {
   "display_name": "Python 3",
   "language": "python",
   "name": "python3"
  },
  "language_info": {
   "codemirror_mode": {
    "name": "ipython",
    "version": 3
   },
   "file_extension": ".py",
   "mimetype": "text/x-python",
   "name": "python",
   "nbconvert_exporter": "python",
   "pygments_lexer": "ipython3",
   "version": "3.8.3"
  },
  "latex_envs": {
   "LaTeX_envs_menu_present": true,
   "autoclose": false,
   "autocomplete": true,
   "bibliofile": "biblio.bib",
   "cite_by": "apalike",
   "current_citInitial": 1,
   "eqLabelWithNumbers": true,
   "eqNumInitial": 1,
   "hotkeys": {
    "equation": "Ctrl-E",
    "itemize": "Ctrl-I"
   },
   "labels_anchors": false,
   "latex_user_defs": false,
   "report_style_numbering": false,
   "user_envs_cfg": false
  },
  "toc": {
   "base_numbering": 1,
   "nav_menu": {},
   "number_sections": true,
   "sideBar": true,
   "skip_h1_title": false,
   "title_cell": "Table of Contents",
   "title_sidebar": "Contents",
   "toc_cell": false,
   "toc_position": {},
   "toc_section_display": true,
   "toc_window_display": false
  },
  "varInspector": {
   "cols": {
    "lenName": 16,
    "lenType": 16,
    "lenVar": 40
   },
   "kernels_config": {
    "python": {
     "delete_cmd_postfix": "",
     "delete_cmd_prefix": "del ",
     "library": "var_list.py",
     "varRefreshCmd": "print(var_dic_list())"
    },
    "r": {
     "delete_cmd_postfix": ") ",
     "delete_cmd_prefix": "rm(",
     "library": "var_list.r",
     "varRefreshCmd": "cat(var_dic_list()) "
    }
   },
   "types_to_exclude": [
    "module",
    "function",
    "builtin_function_or_method",
    "instance",
    "_Feature"
   ],
   "window_display": false
  }
 },
 "nbformat": 4,
 "nbformat_minor": 4
}
